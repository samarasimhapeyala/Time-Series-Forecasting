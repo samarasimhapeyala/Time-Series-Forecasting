{
  "nbformat": 4,
  "nbformat_minor": 0,
  "metadata": {
    "colab": {
      "name": "APPLE LSTM.ipynb",
      "provenance": [],
      "collapsed_sections": []
    },
    "kernelspec": {
      "display_name": "Python 3",
      "language": "python",
      "name": "python3"
    },
    "language_info": {
      "codemirror_mode": {
        "name": "ipython",
        "version": 3
      },
      "file_extension": ".py",
      "mimetype": "text/x-python",
      "name": "python",
      "nbconvert_exporter": "python",
      "pygments_lexer": "ipython3",
      "version": "3.8.3"
    }
  },
  "cells": [
    {
      "cell_type": "markdown",
      "metadata": {
        "id": "VwMp0HR0naDd"
      },
      "source": [
        "### Stock Market Prediction And Forecasting Using Stacked LSTM"
      ]
    },
    {
      "cell_type": "code",
      "metadata": {
        "id": "RaxQKVBtnaE5"
      },
      "source": [
        "### Data Collection #REQUIRED WHEN directly downloading data\n",
        "#import pandas_datareader as pdr\n",
        "#key=\"\""
      ],
      "execution_count": null,
      "outputs": []
    },
    {
      "cell_type": "code",
      "metadata": {
        "id": "CzvIgoKgnaE-"
      },
      "source": [
        "#df = pdr.get_data_tiingo('AAPL', api_key='529b01f538c0de8ce75e4d230c3b7766c58ef98a') #key to download "
      ],
      "execution_count": null,
      "outputs": []
    },
    {
      "cell_type": "code",
      "metadata": {
        "id": "mWQVwKA3naFB"
      },
      "source": [
        "#df.to_csv('AAPL.csv') #this data will be updated daily"
      ],
      "execution_count": null,
      "outputs": []
    },
    {
      "cell_type": "code",
      "metadata": {
        "colab": {
          "resources": {
            "http://localhost:8080/nbextensions/google.colab/files.js": {
              "data": "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",
              "ok": true,
              "headers": [
                [
                  "content-type",
                  "application/javascript"
                ]
              ],
              "status": 200,
              "status_text": "OK"
            }
          },
          "base_uri": "https://localhost:8080/",
          "height": 74
        },
        "id": "lerCPbXk1mNF",
        "outputId": "a8bcaeb7-60d2-48dd-b690-04b4ec981c8f"
      },
      "source": [
        "#load dataset\n",
        "from google.colab import files\n",
        "uploaded = files.upload()"
      ],
      "execution_count": 1,
      "outputs": [
        {
          "output_type": "display_data",
          "data": {
            "text/html": [
              "\n",
              "     <input type=\"file\" id=\"files-6189bef9-13bc-4805-aafd-f62c8082789f\" name=\"files[]\" multiple disabled\n",
              "        style=\"border:none\" />\n",
              "     <output id=\"result-6189bef9-13bc-4805-aafd-f62c8082789f\">\n",
              "      Upload widget is only available when the cell has been executed in the\n",
              "      current browser session. Please rerun this cell to enable.\n",
              "      </output>\n",
              "      <script src=\"/nbextensions/google.colab/files.js\"></script> "
            ],
            "text/plain": [
              "<IPython.core.display.HTML object>"
            ]
          },
          "metadata": {
            "tags": []
          }
        },
        {
          "output_type": "stream",
          "text": [
            "Saving AAPL.csv to AAPL.csv\n"
          ],
          "name": "stdout"
        }
      ]
    },
    {
      "cell_type": "code",
      "metadata": {
        "id": "tl0WQfSA1pJq"
      },
      "source": [
        "#import data through pandas\n",
        "import io\n",
        "import pandas as pd\n",
        "df = pd.read_csv(io.BytesIO(uploaded['AAPL.csv']))"
      ],
      "execution_count": 2,
      "outputs": []
    },
    {
      "cell_type": "code",
      "metadata": {
        "colab": {
          "base_uri": "https://localhost:8080/",
          "height": 617
        },
        "id": "p7kvgLqqnaFJ",
        "outputId": "cf605b0b-52e0-4b2b-ca53-8be7fa87df41"
      },
      "source": [
        "df"
      ],
      "execution_count": 3,
      "outputs": [
        {
          "output_type": "execute_result",
          "data": {
            "text/html": [
              "<div>\n",
              "<style scoped>\n",
              "    .dataframe tbody tr th:only-of-type {\n",
              "        vertical-align: middle;\n",
              "    }\n",
              "\n",
              "    .dataframe tbody tr th {\n",
              "        vertical-align: top;\n",
              "    }\n",
              "\n",
              "    .dataframe thead th {\n",
              "        text-align: right;\n",
              "    }\n",
              "</style>\n",
              "<table border=\"1\" class=\"dataframe\">\n",
              "  <thead>\n",
              "    <tr style=\"text-align: right;\">\n",
              "      <th></th>\n",
              "      <th>symbol</th>\n",
              "      <th>date</th>\n",
              "      <th>close</th>\n",
              "      <th>high</th>\n",
              "      <th>low</th>\n",
              "      <th>open</th>\n",
              "      <th>volume</th>\n",
              "      <th>adjClose</th>\n",
              "      <th>adjHigh</th>\n",
              "      <th>adjLow</th>\n",
              "      <th>adjOpen</th>\n",
              "      <th>adjVolume</th>\n",
              "      <th>divCash</th>\n",
              "      <th>splitFactor</th>\n",
              "    </tr>\n",
              "  </thead>\n",
              "  <tbody>\n",
              "    <tr>\n",
              "      <th>0</th>\n",
              "      <td>AAPL</td>\n",
              "      <td>2016-07-05 00:00:00+00:00</td>\n",
              "      <td>94.99</td>\n",
              "      <td>95.400</td>\n",
              "      <td>94.460</td>\n",
              "      <td>95.39</td>\n",
              "      <td>27705210</td>\n",
              "      <td>22.181442</td>\n",
              "      <td>22.277183</td>\n",
              "      <td>22.057680</td>\n",
              "      <td>22.274848</td>\n",
              "      <td>110820840</td>\n",
              "      <td>0.0</td>\n",
              "      <td>1.0</td>\n",
              "    </tr>\n",
              "    <tr>\n",
              "      <th>1</th>\n",
              "      <td>AAPL</td>\n",
              "      <td>2016-07-06 00:00:00+00:00</td>\n",
              "      <td>95.53</td>\n",
              "      <td>95.660</td>\n",
              "      <td>94.370</td>\n",
              "      <td>94.60</td>\n",
              "      <td>30949090</td>\n",
              "      <td>22.307540</td>\n",
              "      <td>22.337896</td>\n",
              "      <td>22.036664</td>\n",
              "      <td>22.090372</td>\n",
              "      <td>123796360</td>\n",
              "      <td>0.0</td>\n",
              "      <td>1.0</td>\n",
              "    </tr>\n",
              "    <tr>\n",
              "      <th>2</th>\n",
              "      <td>AAPL</td>\n",
              "      <td>2016-07-07 00:00:00+00:00</td>\n",
              "      <td>95.94</td>\n",
              "      <td>96.500</td>\n",
              "      <td>95.620</td>\n",
              "      <td>95.70</td>\n",
              "      <td>25139558</td>\n",
              "      <td>22.403280</td>\n",
              "      <td>22.534048</td>\n",
              "      <td>22.328556</td>\n",
              "      <td>22.347237</td>\n",
              "      <td>100558232</td>\n",
              "      <td>0.0</td>\n",
              "      <td>1.0</td>\n",
              "    </tr>\n",
              "    <tr>\n",
              "      <th>3</th>\n",
              "      <td>AAPL</td>\n",
              "      <td>2016-07-08 00:00:00+00:00</td>\n",
              "      <td>96.68</td>\n",
              "      <td>96.890</td>\n",
              "      <td>96.050</td>\n",
              "      <td>96.49</td>\n",
              "      <td>28912103</td>\n",
              "      <td>22.576080</td>\n",
              "      <td>22.625118</td>\n",
              "      <td>22.428967</td>\n",
              "      <td>22.531713</td>\n",
              "      <td>115648412</td>\n",
              "      <td>0.0</td>\n",
              "      <td>1.0</td>\n",
              "    </tr>\n",
              "    <tr>\n",
              "      <th>4</th>\n",
              "      <td>AAPL</td>\n",
              "      <td>2016-07-11 00:00:00+00:00</td>\n",
              "      <td>96.98</td>\n",
              "      <td>97.650</td>\n",
              "      <td>96.730</td>\n",
              "      <td>96.75</td>\n",
              "      <td>23794945</td>\n",
              "      <td>22.646134</td>\n",
              "      <td>22.802588</td>\n",
              "      <td>22.587756</td>\n",
              "      <td>22.592426</td>\n",
              "      <td>95179780</td>\n",
              "      <td>0.0</td>\n",
              "      <td>1.0</td>\n",
              "    </tr>\n",
              "    <tr>\n",
              "      <th>...</th>\n",
              "      <td>...</td>\n",
              "      <td>...</td>\n",
              "      <td>...</td>\n",
              "      <td>...</td>\n",
              "      <td>...</td>\n",
              "      <td>...</td>\n",
              "      <td>...</td>\n",
              "      <td>...</td>\n",
              "      <td>...</td>\n",
              "      <td>...</td>\n",
              "      <td>...</td>\n",
              "      <td>...</td>\n",
              "      <td>...</td>\n",
              "      <td>...</td>\n",
              "    </tr>\n",
              "    <tr>\n",
              "      <th>1254</th>\n",
              "      <td>AAPL</td>\n",
              "      <td>2021-06-28 00:00:00+00:00</td>\n",
              "      <td>134.78</td>\n",
              "      <td>135.245</td>\n",
              "      <td>133.350</td>\n",
              "      <td>133.41</td>\n",
              "      <td>62111303</td>\n",
              "      <td>134.780000</td>\n",
              "      <td>135.245000</td>\n",
              "      <td>133.350000</td>\n",
              "      <td>133.410000</td>\n",
              "      <td>62111303</td>\n",
              "      <td>0.0</td>\n",
              "      <td>1.0</td>\n",
              "    </tr>\n",
              "    <tr>\n",
              "      <th>1255</th>\n",
              "      <td>AAPL</td>\n",
              "      <td>2021-06-29 00:00:00+00:00</td>\n",
              "      <td>136.33</td>\n",
              "      <td>136.490</td>\n",
              "      <td>134.350</td>\n",
              "      <td>134.80</td>\n",
              "      <td>64556081</td>\n",
              "      <td>136.330000</td>\n",
              "      <td>136.490000</td>\n",
              "      <td>134.350000</td>\n",
              "      <td>134.800000</td>\n",
              "      <td>64556081</td>\n",
              "      <td>0.0</td>\n",
              "      <td>1.0</td>\n",
              "    </tr>\n",
              "    <tr>\n",
              "      <th>1256</th>\n",
              "      <td>AAPL</td>\n",
              "      <td>2021-06-30 00:00:00+00:00</td>\n",
              "      <td>136.96</td>\n",
              "      <td>137.410</td>\n",
              "      <td>135.870</td>\n",
              "      <td>136.17</td>\n",
              "      <td>63261393</td>\n",
              "      <td>136.960000</td>\n",
              "      <td>137.410000</td>\n",
              "      <td>135.870000</td>\n",
              "      <td>136.170000</td>\n",
              "      <td>63261393</td>\n",
              "      <td>0.0</td>\n",
              "      <td>1.0</td>\n",
              "    </tr>\n",
              "    <tr>\n",
              "      <th>1257</th>\n",
              "      <td>AAPL</td>\n",
              "      <td>2021-07-01 00:00:00+00:00</td>\n",
              "      <td>137.27</td>\n",
              "      <td>137.330</td>\n",
              "      <td>135.760</td>\n",
              "      <td>136.60</td>\n",
              "      <td>52485781</td>\n",
              "      <td>137.270000</td>\n",
              "      <td>137.330000</td>\n",
              "      <td>135.760000</td>\n",
              "      <td>136.600000</td>\n",
              "      <td>52485781</td>\n",
              "      <td>0.0</td>\n",
              "      <td>1.0</td>\n",
              "    </tr>\n",
              "    <tr>\n",
              "      <th>1258</th>\n",
              "      <td>AAPL</td>\n",
              "      <td>2021-07-02 00:00:00+00:00</td>\n",
              "      <td>139.96</td>\n",
              "      <td>140.000</td>\n",
              "      <td>137.745</td>\n",
              "      <td>137.90</td>\n",
              "      <td>78694871</td>\n",
              "      <td>139.960000</td>\n",
              "      <td>140.000000</td>\n",
              "      <td>137.745000</td>\n",
              "      <td>137.900000</td>\n",
              "      <td>78694871</td>\n",
              "      <td>0.0</td>\n",
              "      <td>1.0</td>\n",
              "    </tr>\n",
              "  </tbody>\n",
              "</table>\n",
              "<p>1259 rows × 14 columns</p>\n",
              "</div>"
            ],
            "text/plain": [
              "     symbol                       date   close  ...  adjVolume  divCash  splitFactor\n",
              "0      AAPL  2016-07-05 00:00:00+00:00   94.99  ...  110820840      0.0          1.0\n",
              "1      AAPL  2016-07-06 00:00:00+00:00   95.53  ...  123796360      0.0          1.0\n",
              "2      AAPL  2016-07-07 00:00:00+00:00   95.94  ...  100558232      0.0          1.0\n",
              "3      AAPL  2016-07-08 00:00:00+00:00   96.68  ...  115648412      0.0          1.0\n",
              "4      AAPL  2016-07-11 00:00:00+00:00   96.98  ...   95179780      0.0          1.0\n",
              "...     ...                        ...     ...  ...        ...      ...          ...\n",
              "1254   AAPL  2021-06-28 00:00:00+00:00  134.78  ...   62111303      0.0          1.0\n",
              "1255   AAPL  2021-06-29 00:00:00+00:00  136.33  ...   64556081      0.0          1.0\n",
              "1256   AAPL  2021-06-30 00:00:00+00:00  136.96  ...   63261393      0.0          1.0\n",
              "1257   AAPL  2021-07-01 00:00:00+00:00  137.27  ...   52485781      0.0          1.0\n",
              "1258   AAPL  2021-07-02 00:00:00+00:00  139.96  ...   78694871      0.0          1.0\n",
              "\n",
              "[1259 rows x 14 columns]"
            ]
          },
          "metadata": {
            "tags": []
          },
          "execution_count": 3
        }
      ]
    },
    {
      "cell_type": "code",
      "metadata": {
        "id": "gal02LJ5naFY"
      },
      "source": [
        "df1=df.reset_index()['close']"
      ],
      "execution_count": 4,
      "outputs": []
    },
    {
      "cell_type": "code",
      "metadata": {
        "colab": {
          "base_uri": "https://localhost:8080/",
          "height": 282
        },
        "id": "8Y4n0zQXmpvu",
        "outputId": "2ffab417-acab-4b74-a205-b23bb3d7d76e"
      },
      "source": [
        "import matplotlib.pyplot as plt\n",
        "plt.plot(df1)"
      ],
      "execution_count": 5,
      "outputs": [
        {
          "output_type": "execute_result",
          "data": {
            "text/plain": [
              "[<matplotlib.lines.Line2D at 0x7fea3625dad0>]"
            ]
          },
          "metadata": {
            "tags": []
          },
          "execution_count": 5
        },
        {
          "output_type": "display_data",
          "data": {
            "image/png": "[encoded data removed]",
            "text/plain": [
              "<Figure size 432x288 with 1 Axes>"
            ]
          },
          "metadata": {
            "tags": [],
            "needs_background": "light"
          }
        }
      ]
    },
    {
      "cell_type": "code",
      "metadata": {
        "id": "Fb7TwJaDnaFf"
      },
      "source": [
        "import numpy as np"
      ],
      "execution_count": 6,
      "outputs": []
    },
    {
      "cell_type": "code",
      "metadata": {
        "id": "0LayB1IHnaFi"
      },
      "source": [
        "from sklearn.preprocessing import MinMaxScaler\n",
        "scaler=MinMaxScaler(feature_range=(0,1))\n",
        "df1=scaler.fit_transform(np.array(df1).reshape(-1,1))"
      ],
      "execution_count": 7,
      "outputs": []
    },
    {
      "cell_type": "code",
      "metadata": {
        "id": "A_qYGXTNnaFm"
      },
      "source": [
        "##splitting dataset into train and test split\n",
        "training_size=int(len(df1)*0.70)\n",
        "test_size=len(df1)-training_size\n",
        "train_data,test_data=df1[0:training_size,:],df1[training_size:len(df1),:1]"
      ],
      "execution_count": 8,
      "outputs": []
    },
    {
      "cell_type": "code",
      "metadata": {
        "colab": {
          "base_uri": "https://localhost:8080/"
        },
        "id": "PHGKuqKZnaFn",
        "outputId": "e1aeb3c4-fc30-44c0-b8b2-ca87df07b9a2"
      },
      "source": [
        "training_size,test_size"
      ],
      "execution_count": 9,
      "outputs": [
        {
          "output_type": "execute_result",
          "data": {
            "text/plain": [
              "(881, 378)"
            ]
          },
          "metadata": {
            "tags": []
          },
          "execution_count": 9
        }
      ]
    },
    {
      "cell_type": "code",
      "metadata": {
        "id": "tbIpp-HunaFq"
      },
      "source": [
        "import numpy\n",
        "# convert an array of values into a dataset matrix\n",
        "def create_dataset(dataset, time_step=1):\n",
        "\tdataX, dataY = [], []\n",
        "\tfor i in range(len(dataset)-time_step-1):\n",
        "\t\ta = dataset[i:(i+time_step), 0]   ###i=0, 0,1,2,3-----99   100 \n",
        "\t\tdataX.append(a)\n",
        "\t\tdataY.append(dataset[i + time_step, 0])\n",
        "\treturn numpy.array(dataX), numpy.array(dataY)"
      ],
      "execution_count": 10,
      "outputs": []
    },
    {
      "cell_type": "code",
      "metadata": {
        "id": "2vyqEYLFnaFs"
      },
      "source": [
        "# reshape into X=t,t+1,t+2,t+3 and Y=t+4\n",
        "time_step = 95\n",
        "X_train, y_train = create_dataset(train_data, time_step)\n",
        "X_test, ytest = create_dataset(test_data, time_step)"
      ],
      "execution_count": 11,
      "outputs": []
    },
    {
      "cell_type": "code",
      "metadata": {
        "colab": {
          "base_uri": "https://localhost:8080/"
        },
        "id": "7_Jmqq5gArKO",
        "outputId": "92d11a0b-912c-4739-ae8d-08ec556804dd"
      },
      "source": [
        "print(X_test.shape)\n",
        "print(ytest.shape)"
      ],
      "execution_count": 12,
      "outputs": [
        {
          "output_type": "stream",
          "text": [
            "(282, 95)\n",
            "(282,)\n"
          ],
          "name": "stdout"
        }
      ]
    },
    {
      "cell_type": "code",
      "metadata": {
        "colab": {
          "base_uri": "https://localhost:8080/"
        },
        "id": "z7v2XfN2naFu",
        "outputId": "530e5476-b972-48c6-f808-799b4c2c1380"
      },
      "source": [
        "print(X_train.shape), print(y_train.shape)"
      ],
      "execution_count": 13,
      "outputs": [
        {
          "output_type": "stream",
          "text": [
            "(785, 95)\n",
            "(785,)\n"
          ],
          "name": "stdout"
        },
        {
          "output_type": "execute_result",
          "data": {
            "text/plain": [
              "(None, None)"
            ]
          },
          "metadata": {
            "tags": []
          },
          "execution_count": 13
        }
      ]
    },
    {
      "cell_type": "code",
      "metadata": {
        "id": "rBuSIdJunaF6"
      },
      "source": [
        "# reshape input to be [samples, time steps, features] which is required for LSTM\n",
        "X_train =X_train.reshape(X_train.shape[0],X_train.shape[1] , 1)\n",
        "X_test = X_test.reshape(X_test.shape[0],X_test.shape[1] , 1)"
      ],
      "execution_count": 14,
      "outputs": []
    },
    {
      "cell_type": "code",
      "metadata": {
        "id": "q9Yk_iqBnaF8"
      },
      "source": [
        "### Create the Stacked LSTM model\n",
        "from tensorflow.keras.models import Sequential\n",
        "from tensorflow.keras.layers import Dense\n",
        "from tensorflow.keras.layers import LSTM"
      ],
      "execution_count": 15,
      "outputs": []
    },
    {
      "cell_type": "code",
      "metadata": {
        "id": "gRcwfJewnaF9"
      },
      "source": [
        "#model=Sequential()\n",
        "#model.add(LSTM(50,return_sequences=True,input_shape=(100,1)))\n",
        "#model.add(LSTM(50,return_sequences=True))\n",
        "#model.add(LSTM(50))\n",
        "#model.add(Dense(1))\n",
        "#model.compile(loss='mean_squared_error',optimizer='adam')\n"
      ],
      "execution_count": 16,
      "outputs": []
    },
    {
      "cell_type": "code",
      "metadata": {
        "id": "9trstDZUhoaF"
      },
      "source": [
        "model=Sequential()\n",
        "model.add(LSTM(50,return_sequences=True,input_shape=(100,1)))\n",
        "model.add(LSTM(50,return_sequences=True))\n",
        "#model.add(LSTM(50,return_sequences=True))\n",
        "model.add(LSTM(50))\n",
        "model.add(Dense(1))\n",
        "model.compile(loss='mean_squared_error',optimizer='adam')\n"
      ],
      "execution_count": 17,
      "outputs": []
    },
    {
      "cell_type": "code",
      "metadata": {
        "colab": {
          "base_uri": "https://localhost:8080/"
        },
        "id": "n_i59EGShsnl",
        "outputId": "0a1dadc0-ddbd-445d-dec4-cd083d88c8f6"
      },
      "source": [
        "model.summary()"
      ],
      "execution_count": 18,
      "outputs": [
        {
          "output_type": "stream",
          "text": [
            "Model: \"sequential\"\n",
            "_________________________________________________________________\n",
            "Layer (type)                 Output Shape              Param #   \n",
            "=================================================================\n",
            "lstm (LSTM)                  (None, 100, 50)           10400     \n",
            "_________________________________________________________________\n",
            "lstm_1 (LSTM)                (None, 100, 50)           20200     \n",
            "_________________________________________________________________\n",
            "lstm_2 (LSTM)                (None, 50)                20200     \n",
            "_________________________________________________________________\n",
            "dense (Dense)                (None, 1)                 51        \n",
            "=================================================================\n",
            "Total params: 50,851\n",
            "Trainable params: 50,851\n",
            "Non-trainable params: 0\n",
            "_________________________________________________________________\n"
          ],
          "name": "stdout"
        }
      ]
    },
    {
      "cell_type": "code",
      "metadata": {
        "colab": {
          "base_uri": "https://localhost:8080/"
        },
        "id": "vq31SKOW7AUQ",
        "outputId": "fe304be9-c599-46fb-b4f0-d0cf0ed58b4f"
      },
      "source": [
        "model.fit(X_train,y_train,validation_data=(X_test,ytest),epochs=500,batch_size=64,verbose=1)"
      ],
      "execution_count": 19,
      "outputs": [
        {
          "output_type": "stream",
          "text": [
            "Epoch 1/500\n",
            "WARNING:tensorflow:Model was constructed with shape (None, 100, 1) for input KerasTensor(type_spec=TensorSpec(shape=(None, 100, 1), dtype=tf.float32, name='lstm_input'), name='lstm_input', description=\"created by layer 'lstm_input'\"), but it was called on an input with incompatible shape (None, 95, 1).\n",
            "WARNING:tensorflow:Model was constructed with shape (None, 100, 1) for input KerasTensor(type_spec=TensorSpec(shape=(None, 100, 1), dtype=tf.float32, name='lstm_input'), name='lstm_input', description=\"created by layer 'lstm_input'\"), but it was called on an input with incompatible shape (None, 95, 1).\n",
            "13/13 [==============================] - ETA: 0s - loss: 0.0119WARNING:tensorflow:Model was constructed with shape (None, 100, 1) for input KerasTensor(type_spec=TensorSpec(shape=(None, 100, 1), dtype=tf.float32, name='lstm_input'), name='lstm_input', description=\"created by layer 'lstm_input'\"), but it was called on an input with incompatible shape (None, 95, 1).\n",
            "13/13 [==============================] - 9s 273ms/step - loss: 0.0119 - val_loss: 0.0386\n",
            "Epoch 2/500\n",
            "13/13 [==============================] - 2s 176ms/step - loss: 0.0027 - val_loss: 0.0260\n",
            "Epoch 3/500\n",
            "13/13 [==============================] - 2s 175ms/step - loss: 0.0010 - val_loss: 0.0253\n",
            "Epoch 4/500\n",
            "13/13 [==============================] - 2s 178ms/step - loss: 5.2583e-04 - val_loss: 0.0294\n",
            "Epoch 5/500\n",
            "13/13 [==============================] - 2s 175ms/step - loss: 4.9739e-04 - val_loss: 0.0266\n",
            "Epoch 6/500\n",
            "13/13 [==============================] - 2s 175ms/step - loss: 4.5969e-04 - val_loss: 0.0244\n",
            "Epoch 7/500\n",
            "13/13 [==============================] - 2s 173ms/step - loss: 4.1196e-04 - val_loss: 0.0242\n",
            "Epoch 8/500\n",
            "13/13 [==============================] - 2s 175ms/step - loss: 3.8013e-04 - val_loss: 0.0256\n",
            "Epoch 9/500\n",
            "13/13 [==============================] - 2s 177ms/step - loss: 3.8489e-04 - val_loss: 0.0235\n",
            "Epoch 10/500\n",
            "13/13 [==============================] - 2s 177ms/step - loss: 3.5491e-04 - val_loss: 0.0237\n",
            "Epoch 11/500\n",
            "13/13 [==============================] - 2s 173ms/step - loss: 3.4491e-04 - val_loss: 0.0261\n",
            "Epoch 12/500\n",
            "13/13 [==============================] - 2s 175ms/step - loss: 3.4732e-04 - val_loss: 0.0219\n",
            "Epoch 13/500\n",
            "13/13 [==============================] - 2s 176ms/step - loss: 3.1154e-04 - val_loss: 0.0239\n",
            "Epoch 14/500\n",
            "13/13 [==============================] - 2s 175ms/step - loss: 2.9151e-04 - val_loss: 0.0222\n",
            "Epoch 15/500\n",
            "13/13 [==============================] - 2s 176ms/step - loss: 2.9778e-04 - val_loss: 0.0257\n",
            "Epoch 16/500\n",
            "13/13 [==============================] - 2s 181ms/step - loss: 3.0660e-04 - val_loss: 0.0217\n",
            "Epoch 17/500\n",
            "13/13 [==============================] - 2s 174ms/step - loss: 3.0963e-04 - val_loss: 0.0216\n",
            "Epoch 18/500\n",
            "13/13 [==============================] - 2s 175ms/step - loss: 2.9697e-04 - val_loss: 0.0250\n",
            "Epoch 19/500\n",
            "13/13 [==============================] - 2s 174ms/step - loss: 2.7821e-04 - val_loss: 0.0218\n",
            "Epoch 20/500\n",
            "13/13 [==============================] - 2s 175ms/step - loss: 2.6501e-04 - val_loss: 0.0223\n",
            "Epoch 21/500\n",
            "13/13 [==============================] - 2s 175ms/step - loss: 2.4961e-04 - val_loss: 0.0235\n",
            "Epoch 22/500\n",
            "13/13 [==============================] - 2s 175ms/step - loss: 2.4988e-04 - val_loss: 0.0218\n",
            "Epoch 23/500\n",
            "13/13 [==============================] - 2s 174ms/step - loss: 2.6033e-04 - val_loss: 0.0227\n",
            "Epoch 24/500\n",
            "13/13 [==============================] - 2s 175ms/step - loss: 2.3555e-04 - val_loss: 0.0227\n",
            "Epoch 25/500\n",
            "13/13 [==============================] - 2s 172ms/step - loss: 2.3802e-04 - val_loss: 0.0213\n",
            "Epoch 26/500\n",
            "13/13 [==============================] - 2s 174ms/step - loss: 2.3326e-04 - val_loss: 0.0229\n",
            "Epoch 27/500\n",
            "13/13 [==============================] - 2s 173ms/step - loss: 2.3169e-04 - val_loss: 0.0221\n",
            "Epoch 28/500\n",
            "13/13 [==============================] - 2s 176ms/step - loss: 2.2809e-04 - val_loss: 0.0233\n",
            "Epoch 29/500\n",
            "13/13 [==============================] - 2s 172ms/step - loss: 2.3197e-04 - val_loss: 0.0227\n",
            "Epoch 30/500\n",
            "13/13 [==============================] - 2s 172ms/step - loss: 2.1898e-04 - val_loss: 0.0228\n",
            "Epoch 31/500\n",
            "13/13 [==============================] - 2s 179ms/step - loss: 2.3109e-04 - val_loss: 0.0227\n",
            "Epoch 32/500\n",
            "13/13 [==============================] - 2s 177ms/step - loss: 2.5418e-04 - val_loss: 0.0205\n",
            "Epoch 33/500\n",
            "13/13 [==============================] - 2s 176ms/step - loss: 2.2507e-04 - val_loss: 0.0205\n",
            "Epoch 34/500\n",
            "13/13 [==============================] - 2s 180ms/step - loss: 2.0651e-04 - val_loss: 0.0211\n",
            "Epoch 35/500\n",
            "13/13 [==============================] - 2s 177ms/step - loss: 2.0620e-04 - val_loss: 0.0210\n",
            "Epoch 36/500\n",
            "13/13 [==============================] - 2s 175ms/step - loss: 2.0128e-04 - val_loss: 0.0201\n",
            "Epoch 37/500\n",
            "13/13 [==============================] - 2s 177ms/step - loss: 2.0335e-04 - val_loss: 0.0208\n",
            "Epoch 38/500\n",
            "13/13 [==============================] - 2s 175ms/step - loss: 2.0481e-04 - val_loss: 0.0214\n",
            "Epoch 39/500\n",
            "13/13 [==============================] - 2s 180ms/step - loss: 2.1723e-04 - val_loss: 0.0185\n",
            "Epoch 40/500\n",
            "13/13 [==============================] - 2s 178ms/step - loss: 2.4159e-04 - val_loss: 0.0167\n",
            "Epoch 41/500\n",
            "13/13 [==============================] - 2s 178ms/step - loss: 2.3196e-04 - val_loss: 0.0186\n",
            "Epoch 42/500\n",
            "13/13 [==============================] - 2s 181ms/step - loss: 1.9014e-04 - val_loss: 0.0185\n",
            "Epoch 43/500\n",
            "13/13 [==============================] - 2s 178ms/step - loss: 1.9060e-04 - val_loss: 0.0181\n",
            "Epoch 44/500\n",
            "13/13 [==============================] - 2s 181ms/step - loss: 1.9328e-04 - val_loss: 0.0173\n",
            "Epoch 45/500\n",
            "13/13 [==============================] - 2s 179ms/step - loss: 1.8809e-04 - val_loss: 0.0186\n",
            "Epoch 46/500\n",
            "13/13 [==============================] - 2s 175ms/step - loss: 1.8412e-04 - val_loss: 0.0182\n",
            "Epoch 47/500\n",
            "13/13 [==============================] - 2s 179ms/step - loss: 1.8618e-04 - val_loss: 0.0194\n",
            "Epoch 48/500\n",
            "13/13 [==============================] - 2s 176ms/step - loss: 1.7792e-04 - val_loss: 0.0186\n",
            "Epoch 49/500\n",
            "13/13 [==============================] - 2s 179ms/step - loss: 1.7352e-04 - val_loss: 0.0186\n",
            "Epoch 50/500\n",
            "13/13 [==============================] - 2s 176ms/step - loss: 1.9184e-04 - val_loss: 0.0182\n",
            "Epoch 51/500\n",
            "13/13 [==============================] - 2s 178ms/step - loss: 1.7787e-04 - val_loss: 0.0159\n",
            "Epoch 52/500\n",
            "13/13 [==============================] - 2s 178ms/step - loss: 1.9165e-04 - val_loss: 0.0167\n",
            "Epoch 53/500\n",
            "13/13 [==============================] - 2s 177ms/step - loss: 1.6847e-04 - val_loss: 0.0174\n",
            "Epoch 54/500\n",
            "13/13 [==============================] - 2s 179ms/step - loss: 1.6984e-04 - val_loss: 0.0169\n",
            "Epoch 55/500\n",
            "13/13 [==============================] - 2s 177ms/step - loss: 1.6491e-04 - val_loss: 0.0162\n",
            "Epoch 56/500\n",
            "13/13 [==============================] - 2s 177ms/step - loss: 1.6552e-04 - val_loss: 0.0172\n",
            "Epoch 57/500\n",
            "13/13 [==============================] - 2s 183ms/step - loss: 1.6656e-04 - val_loss: 0.0158\n",
            "Epoch 58/500\n",
            "13/13 [==============================] - 2s 182ms/step - loss: 1.7634e-04 - val_loss: 0.0142\n",
            "Epoch 59/500\n",
            "13/13 [==============================] - 2s 177ms/step - loss: 1.6661e-04 - val_loss: 0.0161\n",
            "Epoch 60/500\n",
            "13/13 [==============================] - 2s 177ms/step - loss: 1.5938e-04 - val_loss: 0.0153\n",
            "Epoch 61/500\n",
            "13/13 [==============================] - 2s 180ms/step - loss: 1.6341e-04 - val_loss: 0.0143\n",
            "Epoch 62/500\n",
            "13/13 [==============================] - 2s 179ms/step - loss: 1.7301e-04 - val_loss: 0.0164\n",
            "Epoch 63/500\n",
            "13/13 [==============================] - 2s 179ms/step - loss: 1.5438e-04 - val_loss: 0.0154\n",
            "Epoch 64/500\n",
            "13/13 [==============================] - 2s 181ms/step - loss: 1.6269e-04 - val_loss: 0.0156\n",
            "Epoch 65/500\n",
            "13/13 [==============================] - 2s 180ms/step - loss: 1.5762e-04 - val_loss: 0.0140\n",
            "Epoch 66/500\n",
            "13/13 [==============================] - 2s 178ms/step - loss: 1.5818e-04 - val_loss: 0.0158\n",
            "Epoch 67/500\n",
            "13/13 [==============================] - 2s 178ms/step - loss: 1.5163e-04 - val_loss: 0.0126\n",
            "Epoch 68/500\n",
            "13/13 [==============================] - 2s 181ms/step - loss: 1.7523e-04 - val_loss: 0.0141\n",
            "Epoch 69/500\n",
            "13/13 [==============================] - 2s 175ms/step - loss: 1.5140e-04 - val_loss: 0.0149\n",
            "Epoch 70/500\n",
            "13/13 [==============================] - 2s 174ms/step - loss: 1.5585e-04 - val_loss: 0.0163\n",
            "Epoch 71/500\n",
            "13/13 [==============================] - 2s 176ms/step - loss: 1.6054e-04 - val_loss: 0.0135\n",
            "Epoch 72/500\n",
            "13/13 [==============================] - 2s 181ms/step - loss: 1.4823e-04 - val_loss: 0.0140\n",
            "Epoch 73/500\n",
            "13/13 [==============================] - 2s 179ms/step - loss: 1.4945e-04 - val_loss: 0.0129\n",
            "Epoch 74/500\n",
            "13/13 [==============================] - 2s 178ms/step - loss: 1.7265e-04 - val_loss: 0.0117\n",
            "Epoch 75/500\n",
            "13/13 [==============================] - 2s 177ms/step - loss: 1.4089e-04 - val_loss: 0.0130\n",
            "Epoch 76/500\n",
            "13/13 [==============================] - 2s 181ms/step - loss: 1.4116e-04 - val_loss: 0.0124\n",
            "Epoch 77/500\n",
            "13/13 [==============================] - 2s 181ms/step - loss: 1.3617e-04 - val_loss: 0.0134\n",
            "Epoch 78/500\n",
            "13/13 [==============================] - 2s 177ms/step - loss: 1.4047e-04 - val_loss: 0.0125\n",
            "Epoch 79/500\n",
            "13/13 [==============================] - 2s 178ms/step - loss: 1.6597e-04 - val_loss: 0.0157\n",
            "Epoch 80/500\n",
            "13/13 [==============================] - 2s 180ms/step - loss: 1.7702e-04 - val_loss: 0.0126\n",
            "Epoch 81/500\n",
            "13/13 [==============================] - 2s 179ms/step - loss: 1.4294e-04 - val_loss: 0.0139\n",
            "Epoch 82/500\n",
            "13/13 [==============================] - 2s 179ms/step - loss: 1.8017e-04 - val_loss: 0.0135\n",
            "Epoch 83/500\n",
            "13/13 [==============================] - 2s 180ms/step - loss: 1.7075e-04 - val_loss: 0.0128\n",
            "Epoch 84/500\n",
            "13/13 [==============================] - 2s 177ms/step - loss: 1.4817e-04 - val_loss: 0.0118\n",
            "Epoch 85/500\n",
            "13/13 [==============================] - 2s 177ms/step - loss: 1.2988e-04 - val_loss: 0.0112\n",
            "Epoch 86/500\n",
            "13/13 [==============================] - 2s 180ms/step - loss: 1.2489e-04 - val_loss: 0.0125\n",
            "Epoch 87/500\n",
            "13/13 [==============================] - 2s 177ms/step - loss: 1.3391e-04 - val_loss: 0.0126\n",
            "Epoch 88/500\n",
            "13/13 [==============================] - 2s 179ms/step - loss: 1.2351e-04 - val_loss: 0.0113\n",
            "Epoch 89/500\n",
            "13/13 [==============================] - 2s 179ms/step - loss: 1.2235e-04 - val_loss: 0.0113\n",
            "Epoch 90/500\n",
            "13/13 [==============================] - 2s 178ms/step - loss: 1.1834e-04 - val_loss: 0.0122\n",
            "Epoch 91/500\n",
            "13/13 [==============================] - 2s 177ms/step - loss: 1.1784e-04 - val_loss: 0.0109\n",
            "Epoch 92/500\n",
            "13/13 [==============================] - 2s 181ms/step - loss: 1.1887e-04 - val_loss: 0.0111\n",
            "Epoch 93/500\n",
            "13/13 [==============================] - 2s 181ms/step - loss: 1.1924e-04 - val_loss: 0.0108\n",
            "Epoch 94/500\n",
            "13/13 [==============================] - 2s 183ms/step - loss: 1.1488e-04 - val_loss: 0.0102\n",
            "Epoch 95/500\n",
            "13/13 [==============================] - 2s 177ms/step - loss: 1.4837e-04 - val_loss: 0.0095\n",
            "Epoch 96/500\n",
            "13/13 [==============================] - 2s 179ms/step - loss: 1.2508e-04 - val_loss: 0.0102\n",
            "Epoch 97/500\n",
            "13/13 [==============================] - 2s 179ms/step - loss: 1.1633e-04 - val_loss: 0.0117\n",
            "Epoch 98/500\n",
            "13/13 [==============================] - 2s 178ms/step - loss: 1.2031e-04 - val_loss: 0.0113\n",
            "Epoch 99/500\n",
            "13/13 [==============================] - 2s 177ms/step - loss: 1.1197e-04 - val_loss: 0.0094\n",
            "Epoch 100/500\n",
            "13/13 [==============================] - 2s 178ms/step - loss: 1.1590e-04 - val_loss: 0.0103\n",
            "Epoch 101/500\n",
            "13/13 [==============================] - 2s 178ms/step - loss: 1.1101e-04 - val_loss: 0.0095\n",
            "Epoch 102/500\n",
            "13/13 [==============================] - 2s 178ms/step - loss: 1.1477e-04 - val_loss: 0.0099\n",
            "Epoch 103/500\n",
            "13/13 [==============================] - 2s 177ms/step - loss: 1.4295e-04 - val_loss: 0.0110\n",
            "Epoch 104/500\n",
            "13/13 [==============================] - 2s 177ms/step - loss: 1.3731e-04 - val_loss: 0.0089\n",
            "Epoch 105/500\n",
            "13/13 [==============================] - 2s 177ms/step - loss: 1.2409e-04 - val_loss: 0.0085\n",
            "Epoch 106/500\n",
            "13/13 [==============================] - 2s 177ms/step - loss: 1.2694e-04 - val_loss: 0.0103\n",
            "Epoch 107/500\n",
            "13/13 [==============================] - 2s 177ms/step - loss: 1.0705e-04 - val_loss: 0.0101\n",
            "Epoch 108/500\n",
            "13/13 [==============================] - 2s 178ms/step - loss: 1.1347e-04 - val_loss: 0.0095\n",
            "Epoch 109/500\n",
            "13/13 [==============================] - 2s 178ms/step - loss: 1.0423e-04 - val_loss: 0.0088\n",
            "Epoch 110/500\n",
            "13/13 [==============================] - 2s 177ms/step - loss: 1.0246e-04 - val_loss: 0.0088\n",
            "Epoch 111/500\n",
            "13/13 [==============================] - 2s 180ms/step - loss: 1.1129e-04 - val_loss: 0.0091\n",
            "Epoch 112/500\n",
            "13/13 [==============================] - 2s 179ms/step - loss: 1.0356e-04 - val_loss: 0.0094\n",
            "Epoch 113/500\n",
            "13/13 [==============================] - 2s 177ms/step - loss: 1.1229e-04 - val_loss: 0.0096\n",
            "Epoch 114/500\n",
            "13/13 [==============================] - 2s 177ms/step - loss: 1.0575e-04 - val_loss: 0.0094\n",
            "Epoch 115/500\n",
            "13/13 [==============================] - 2s 177ms/step - loss: 1.1153e-04 - val_loss: 0.0082\n",
            "Epoch 116/500\n",
            "13/13 [==============================] - 2s 178ms/step - loss: 1.1129e-04 - val_loss: 0.0077\n",
            "Epoch 117/500\n",
            "13/13 [==============================] - 2s 179ms/step - loss: 1.1876e-04 - val_loss: 0.0092\n",
            "Epoch 118/500\n",
            "13/13 [==============================] - 2s 177ms/step - loss: 1.1557e-04 - val_loss: 0.0085\n",
            "Epoch 119/500\n",
            "13/13 [==============================] - 2s 175ms/step - loss: 9.5131e-05 - val_loss: 0.0091\n",
            "Epoch 120/500\n",
            "13/13 [==============================] - 2s 178ms/step - loss: 9.6640e-05 - val_loss: 0.0081\n",
            "Epoch 121/500\n",
            "13/13 [==============================] - 2s 175ms/step - loss: 9.5303e-05 - val_loss: 0.0095\n",
            "Epoch 122/500\n",
            "13/13 [==============================] - 2s 175ms/step - loss: 1.1682e-04 - val_loss: 0.0081\n",
            "Epoch 123/500\n",
            "13/13 [==============================] - 2s 179ms/step - loss: 9.5365e-05 - val_loss: 0.0097\n",
            "Epoch 124/500\n",
            "13/13 [==============================] - 2s 178ms/step - loss: 1.0592e-04 - val_loss: 0.0077\n",
            "Epoch 125/500\n",
            "13/13 [==============================] - 2s 177ms/step - loss: 1.0656e-04 - val_loss: 0.0095\n",
            "Epoch 126/500\n",
            "13/13 [==============================] - 2s 178ms/step - loss: 1.1083e-04 - val_loss: 0.0089\n",
            "Epoch 127/500\n",
            "13/13 [==============================] - 2s 175ms/step - loss: 9.8262e-05 - val_loss: 0.0085\n",
            "Epoch 128/500\n",
            "13/13 [==============================] - 2s 180ms/step - loss: 9.8966e-05 - val_loss: 0.0079\n",
            "Epoch 129/500\n",
            "13/13 [==============================] - 2s 177ms/step - loss: 9.1201e-05 - val_loss: 0.0076\n",
            "Epoch 130/500\n",
            "13/13 [==============================] - 2s 176ms/step - loss: 8.9942e-05 - val_loss: 0.0082\n",
            "Epoch 131/500\n",
            "13/13 [==============================] - 2s 176ms/step - loss: 9.6095e-05 - val_loss: 0.0081\n",
            "Epoch 132/500\n",
            "13/13 [==============================] - 2s 176ms/step - loss: 9.2846e-05 - val_loss: 0.0079\n",
            "Epoch 133/500\n",
            "13/13 [==============================] - 2s 175ms/step - loss: 8.9313e-05 - val_loss: 0.0068\n",
            "Epoch 134/500\n",
            "13/13 [==============================] - 2s 178ms/step - loss: 1.1047e-04 - val_loss: 0.0069\n",
            "Epoch 135/500\n",
            "13/13 [==============================] - 2s 175ms/step - loss: 1.0054e-04 - val_loss: 0.0069\n",
            "Epoch 136/500\n",
            "13/13 [==============================] - 2s 176ms/step - loss: 8.5938e-05 - val_loss: 0.0085\n",
            "Epoch 137/500\n",
            "13/13 [==============================] - 2s 173ms/step - loss: 9.2921e-05 - val_loss: 0.0083\n",
            "Epoch 138/500\n",
            "13/13 [==============================] - 2s 175ms/step - loss: 1.0152e-04 - val_loss: 0.0073\n",
            "Epoch 139/500\n",
            "13/13 [==============================] - 2s 176ms/step - loss: 8.5524e-05 - val_loss: 0.0070\n",
            "Epoch 140/500\n",
            "13/13 [==============================] - 2s 175ms/step - loss: 8.5598e-05 - val_loss: 0.0074\n",
            "Epoch 141/500\n",
            "13/13 [==============================] - 2s 175ms/step - loss: 8.5040e-05 - val_loss: 0.0068\n",
            "Epoch 142/500\n",
            "13/13 [==============================] - 2s 176ms/step - loss: 8.6179e-05 - val_loss: 0.0074\n",
            "Epoch 143/500\n",
            "13/13 [==============================] - 2s 177ms/step - loss: 8.8568e-05 - val_loss: 0.0067\n",
            "Epoch 144/500\n",
            "13/13 [==============================] - 2s 174ms/step - loss: 8.4882e-05 - val_loss: 0.0075\n",
            "Epoch 145/500\n",
            "13/13 [==============================] - 2s 175ms/step - loss: 9.5888e-05 - val_loss: 0.0072\n",
            "Epoch 146/500\n",
            "13/13 [==============================] - 2s 176ms/step - loss: 8.4193e-05 - val_loss: 0.0072\n",
            "Epoch 147/500\n",
            "13/13 [==============================] - 2s 177ms/step - loss: 8.6050e-05 - val_loss: 0.0064\n",
            "Epoch 148/500\n",
            "13/13 [==============================] - 2s 179ms/step - loss: 9.3386e-05 - val_loss: 0.0069\n",
            "Epoch 149/500\n",
            "13/13 [==============================] - 2s 175ms/step - loss: 8.2666e-05 - val_loss: 0.0071\n",
            "Epoch 150/500\n",
            "13/13 [==============================] - 2s 177ms/step - loss: 8.4062e-05 - val_loss: 0.0059\n",
            "Epoch 151/500\n",
            "13/13 [==============================] - 2s 180ms/step - loss: 8.5124e-05 - val_loss: 0.0062\n",
            "Epoch 152/500\n",
            "13/13 [==============================] - 2s 177ms/step - loss: 8.1045e-05 - val_loss: 0.0061\n",
            "Epoch 153/500\n",
            "13/13 [==============================] - 2s 174ms/step - loss: 7.7822e-05 - val_loss: 0.0061\n",
            "Epoch 154/500\n",
            "13/13 [==============================] - 2s 175ms/step - loss: 8.7368e-05 - val_loss: 0.0063\n",
            "Epoch 155/500\n",
            "13/13 [==============================] - 2s 177ms/step - loss: 8.3715e-05 - val_loss: 0.0061\n",
            "Epoch 156/500\n",
            "13/13 [==============================] - 2s 178ms/step - loss: 9.6460e-05 - val_loss: 0.0051\n",
            "Epoch 157/500\n",
            "13/13 [==============================] - 2s 175ms/step - loss: 1.0831e-04 - val_loss: 0.0061\n",
            "Epoch 158/500\n",
            "13/13 [==============================] - 2s 174ms/step - loss: 8.2631e-05 - val_loss: 0.0068\n",
            "Epoch 159/500\n",
            "13/13 [==============================] - 2s 176ms/step - loss: 1.1099e-04 - val_loss: 0.0064\n",
            "Epoch 160/500\n",
            "13/13 [==============================] - 2s 175ms/step - loss: 8.7537e-05 - val_loss: 0.0056\n",
            "Epoch 161/500\n",
            "13/13 [==============================] - 2s 176ms/step - loss: 7.7717e-05 - val_loss: 0.0053\n",
            "Epoch 162/500\n",
            "13/13 [==============================] - 2s 176ms/step - loss: 7.9692e-05 - val_loss: 0.0051\n",
            "Epoch 163/500\n",
            "13/13 [==============================] - 2s 177ms/step - loss: 9.7437e-05 - val_loss: 0.0056\n",
            "Epoch 164/500\n",
            "13/13 [==============================] - 2s 174ms/step - loss: 9.2493e-05 - val_loss: 0.0062\n",
            "Epoch 165/500\n",
            "13/13 [==============================] - 2s 177ms/step - loss: 8.1153e-05 - val_loss: 0.0052\n",
            "Epoch 166/500\n",
            "13/13 [==============================] - 2s 175ms/step - loss: 7.3946e-05 - val_loss: 0.0050\n",
            "Epoch 167/500\n",
            "13/13 [==============================] - 2s 174ms/step - loss: 9.0710e-05 - val_loss: 0.0051\n",
            "Epoch 168/500\n",
            "13/13 [==============================] - 2s 176ms/step - loss: 8.0573e-05 - val_loss: 0.0057\n",
            "Epoch 169/500\n",
            "13/13 [==============================] - 2s 176ms/step - loss: 8.4947e-05 - val_loss: 0.0054\n",
            "Epoch 170/500\n",
            "13/13 [==============================] - 2s 179ms/step - loss: 7.1354e-05 - val_loss: 0.0054\n",
            "Epoch 171/500\n",
            "13/13 [==============================] - 2s 178ms/step - loss: 7.8818e-05 - val_loss: 0.0051\n",
            "Epoch 172/500\n",
            "13/13 [==============================] - 2s 179ms/step - loss: 7.2253e-05 - val_loss: 0.0052\n",
            "Epoch 173/500\n",
            "13/13 [==============================] - 2s 179ms/step - loss: 7.1269e-05 - val_loss: 0.0056\n",
            "Epoch 174/500\n",
            "13/13 [==============================] - 2s 179ms/step - loss: 8.2208e-05 - val_loss: 0.0057\n",
            "Epoch 175/500\n",
            "13/13 [==============================] - 2s 180ms/step - loss: 7.0088e-05 - val_loss: 0.0051\n",
            "Epoch 176/500\n",
            "13/13 [==============================] - 2s 178ms/step - loss: 7.9738e-05 - val_loss: 0.0053\n",
            "Epoch 177/500\n",
            "13/13 [==============================] - 2s 177ms/step - loss: 7.8940e-05 - val_loss: 0.0052\n",
            "Epoch 178/500\n",
            "13/13 [==============================] - 2s 180ms/step - loss: 8.4909e-05 - val_loss: 0.0048\n",
            "Epoch 179/500\n",
            "13/13 [==============================] - 2s 176ms/step - loss: 7.0872e-05 - val_loss: 0.0046\n",
            "Epoch 180/500\n",
            "13/13 [==============================] - 2s 176ms/step - loss: 7.8326e-05 - val_loss: 0.0056\n",
            "Epoch 181/500\n",
            "13/13 [==============================] - 2s 175ms/step - loss: 7.9126e-05 - val_loss: 0.0044\n",
            "Epoch 182/500\n",
            "13/13 [==============================] - 2s 177ms/step - loss: 8.4968e-05 - val_loss: 0.0048\n",
            "Epoch 183/500\n",
            "13/13 [==============================] - 2s 178ms/step - loss: 7.4239e-05 - val_loss: 0.0044\n",
            "Epoch 184/500\n",
            "13/13 [==============================] - 2s 177ms/step - loss: 7.4210e-05 - val_loss: 0.0042\n",
            "Epoch 185/500\n",
            "13/13 [==============================] - 2s 176ms/step - loss: 9.0737e-05 - val_loss: 0.0048\n",
            "Epoch 186/500\n",
            "13/13 [==============================] - 2s 176ms/step - loss: 7.4580e-05 - val_loss: 0.0048\n",
            "Epoch 187/500\n",
            "13/13 [==============================] - 2s 179ms/step - loss: 7.3384e-05 - val_loss: 0.0050\n",
            "Epoch 188/500\n",
            "13/13 [==============================] - 2s 180ms/step - loss: 8.5314e-05 - val_loss: 0.0046\n",
            "Epoch 189/500\n",
            "13/13 [==============================] - 2s 179ms/step - loss: 7.3482e-05 - val_loss: 0.0044\n",
            "Epoch 190/500\n",
            "13/13 [==============================] - 2s 178ms/step - loss: 6.5455e-05 - val_loss: 0.0043\n",
            "Epoch 191/500\n",
            "13/13 [==============================] - 2s 178ms/step - loss: 7.1154e-05 - val_loss: 0.0048\n",
            "Epoch 192/500\n",
            "13/13 [==============================] - 2s 178ms/step - loss: 8.4753e-05 - val_loss: 0.0042\n",
            "Epoch 193/500\n",
            "13/13 [==============================] - 2s 179ms/step - loss: 6.8848e-05 - val_loss: 0.0044\n",
            "Epoch 194/500\n",
            "13/13 [==============================] - 2s 179ms/step - loss: 6.9733e-05 - val_loss: 0.0046\n",
            "Epoch 195/500\n",
            "13/13 [==============================] - 2s 179ms/step - loss: 6.3564e-05 - val_loss: 0.0042\n",
            "Epoch 196/500\n",
            "13/13 [==============================] - 2s 181ms/step - loss: 6.4395e-05 - val_loss: 0.0046\n",
            "Epoch 197/500\n",
            "13/13 [==============================] - 2s 178ms/step - loss: 6.4596e-05 - val_loss: 0.0042\n",
            "Epoch 198/500\n",
            "13/13 [==============================] - 2s 178ms/step - loss: 6.3613e-05 - val_loss: 0.0043\n",
            "Epoch 199/500\n",
            "13/13 [==============================] - 2s 179ms/step - loss: 6.6772e-05 - val_loss: 0.0042\n",
            "Epoch 200/500\n",
            "13/13 [==============================] - 2s 180ms/step - loss: 6.1601e-05 - val_loss: 0.0044\n",
            "Epoch 201/500\n",
            "13/13 [==============================] - 2s 180ms/step - loss: 6.5564e-05 - val_loss: 0.0040\n",
            "Epoch 202/500\n",
            "13/13 [==============================] - 2s 180ms/step - loss: 8.5730e-05 - val_loss: 0.0044\n",
            "Epoch 203/500\n",
            "13/13 [==============================] - 2s 182ms/step - loss: 7.3664e-05 - val_loss: 0.0038\n",
            "Epoch 204/500\n",
            "13/13 [==============================] - 2s 179ms/step - loss: 6.9456e-05 - val_loss: 0.0037\n",
            "Epoch 205/500\n",
            "13/13 [==============================] - 2s 180ms/step - loss: 8.5241e-05 - val_loss: 0.0042\n",
            "Epoch 206/500\n",
            "13/13 [==============================] - 2s 180ms/step - loss: 7.0549e-05 - val_loss: 0.0046\n",
            "Epoch 207/500\n",
            "13/13 [==============================] - 2s 180ms/step - loss: 8.6466e-05 - val_loss: 0.0037\n",
            "Epoch 208/500\n",
            "13/13 [==============================] - 2s 177ms/step - loss: 6.3450e-05 - val_loss: 0.0036\n",
            "Epoch 209/500\n",
            "13/13 [==============================] - 2s 179ms/step - loss: 8.3068e-05 - val_loss: 0.0036\n",
            "Epoch 210/500\n",
            "13/13 [==============================] - 2s 178ms/step - loss: 6.8079e-05 - val_loss: 0.0039\n",
            "Epoch 211/500\n",
            "13/13 [==============================] - 2s 179ms/step - loss: 6.0394e-05 - val_loss: 0.0037\n",
            "Epoch 212/500\n",
            "13/13 [==============================] - 2s 178ms/step - loss: 6.6743e-05 - val_loss: 0.0038\n",
            "Epoch 213/500\n",
            "13/13 [==============================] - 2s 177ms/step - loss: 6.2904e-05 - val_loss: 0.0040\n",
            "Epoch 214/500\n",
            "13/13 [==============================] - 2s 178ms/step - loss: 5.8891e-05 - val_loss: 0.0039\n",
            "Epoch 215/500\n",
            "13/13 [==============================] - 2s 179ms/step - loss: 5.9359e-05 - val_loss: 0.0038\n",
            "Epoch 216/500\n",
            "13/13 [==============================] - 2s 179ms/step - loss: 5.8443e-05 - val_loss: 0.0040\n",
            "Epoch 217/500\n",
            "13/13 [==============================] - 2s 179ms/step - loss: 6.2153e-05 - val_loss: 0.0045\n",
            "Epoch 218/500\n",
            "13/13 [==============================] - 2s 176ms/step - loss: 8.1426e-05 - val_loss: 0.0036\n",
            "Epoch 219/500\n",
            "13/13 [==============================] - 2s 179ms/step - loss: 7.1588e-05 - val_loss: 0.0036\n",
            "Epoch 220/500\n",
            "13/13 [==============================] - 2s 183ms/step - loss: 5.5828e-05 - val_loss: 0.0037\n",
            "Epoch 221/500\n",
            "13/13 [==============================] - 2s 179ms/step - loss: 5.5864e-05 - val_loss: 0.0038\n",
            "Epoch 222/500\n",
            "13/13 [==============================] - 2s 179ms/step - loss: 5.7319e-05 - val_loss: 0.0039\n",
            "Epoch 223/500\n",
            "13/13 [==============================] - 2s 179ms/step - loss: 5.6496e-05 - val_loss: 0.0038\n",
            "Epoch 224/500\n",
            "13/13 [==============================] - 2s 181ms/step - loss: 6.0144e-05 - val_loss: 0.0036\n",
            "Epoch 225/500\n",
            "13/13 [==============================] - 2s 179ms/step - loss: 5.6540e-05 - val_loss: 0.0038\n",
            "Epoch 226/500\n",
            "13/13 [==============================] - 2s 182ms/step - loss: 5.4888e-05 - val_loss: 0.0035\n",
            "Epoch 227/500\n",
            "13/13 [==============================] - 2s 179ms/step - loss: 7.2348e-05 - val_loss: 0.0042\n",
            "Epoch 228/500\n",
            "13/13 [==============================] - 2s 177ms/step - loss: 8.3761e-05 - val_loss: 0.0040\n",
            "Epoch 229/500\n",
            "13/13 [==============================] - 2s 178ms/step - loss: 9.7335e-05 - val_loss: 0.0034\n",
            "Epoch 230/500\n",
            "13/13 [==============================] - 2s 181ms/step - loss: 8.6531e-05 - val_loss: 0.0033\n",
            "Epoch 231/500\n",
            "13/13 [==============================] - 2s 179ms/step - loss: 7.2445e-05 - val_loss: 0.0034\n",
            "Epoch 232/500\n",
            "13/13 [==============================] - 2s 184ms/step - loss: 5.6246e-05 - val_loss: 0.0034\n",
            "Epoch 233/500\n",
            "13/13 [==============================] - 2s 180ms/step - loss: 5.3695e-05 - val_loss: 0.0035\n",
            "Epoch 234/500\n",
            "13/13 [==============================] - 2s 181ms/step - loss: 5.9768e-05 - val_loss: 0.0035\n",
            "Epoch 235/500\n",
            "13/13 [==============================] - 2s 179ms/step - loss: 5.2492e-05 - val_loss: 0.0036\n",
            "Epoch 236/500\n",
            "13/13 [==============================] - 2s 181ms/step - loss: 5.3645e-05 - val_loss: 0.0035\n",
            "Epoch 237/500\n",
            "13/13 [==============================] - 2s 180ms/step - loss: 6.7261e-05 - val_loss: 0.0037\n",
            "Epoch 238/500\n",
            "13/13 [==============================] - 2s 179ms/step - loss: 6.8718e-05 - val_loss: 0.0034\n",
            "Epoch 239/500\n",
            "13/13 [==============================] - 2s 180ms/step - loss: 7.1471e-05 - val_loss: 0.0033\n",
            "Epoch 240/500\n",
            "13/13 [==============================] - 2s 180ms/step - loss: 5.6953e-05 - val_loss: 0.0037\n",
            "Epoch 241/500\n",
            "13/13 [==============================] - 2s 179ms/step - loss: 5.6134e-05 - val_loss: 0.0034\n",
            "Epoch 242/500\n",
            "13/13 [==============================] - 2s 179ms/step - loss: 5.4892e-05 - val_loss: 0.0035\n",
            "Epoch 243/500\n",
            "13/13 [==============================] - 2s 180ms/step - loss: 5.3596e-05 - val_loss: 0.0034\n",
            "Epoch 244/500\n",
            "13/13 [==============================] - 2s 184ms/step - loss: 7.0018e-05 - val_loss: 0.0034\n",
            "Epoch 245/500\n",
            "13/13 [==============================] - 2s 182ms/step - loss: 6.6592e-05 - val_loss: 0.0035\n",
            "Epoch 246/500\n",
            "13/13 [==============================] - 2s 181ms/step - loss: 5.3197e-05 - val_loss: 0.0036\n",
            "Epoch 247/500\n",
            "13/13 [==============================] - 2s 181ms/step - loss: 6.1996e-05 - val_loss: 0.0037\n",
            "Epoch 248/500\n",
            "13/13 [==============================] - 2s 177ms/step - loss: 5.4391e-05 - val_loss: 0.0037\n",
            "Epoch 249/500\n",
            "13/13 [==============================] - 2s 183ms/step - loss: 5.2467e-05 - val_loss: 0.0036\n",
            "Epoch 250/500\n",
            "13/13 [==============================] - 2s 180ms/step - loss: 5.2059e-05 - val_loss: 0.0035\n",
            "Epoch 251/500\n",
            "13/13 [==============================] - 2s 179ms/step - loss: 5.1156e-05 - val_loss: 0.0037\n",
            "Epoch 252/500\n",
            "13/13 [==============================] - 2s 180ms/step - loss: 5.6880e-05 - val_loss: 0.0035\n",
            "Epoch 253/500\n",
            "13/13 [==============================] - 2s 180ms/step - loss: 5.9910e-05 - val_loss: 0.0035\n",
            "Epoch 254/500\n",
            "13/13 [==============================] - 2s 178ms/step - loss: 5.2742e-05 - val_loss: 0.0035\n",
            "Epoch 255/500\n",
            "13/13 [==============================] - 2s 180ms/step - loss: 5.7074e-05 - val_loss: 0.0036\n",
            "Epoch 256/500\n",
            "13/13 [==============================] - 2s 179ms/step - loss: 5.8131e-05 - val_loss: 0.0037\n",
            "Epoch 257/500\n",
            "13/13 [==============================] - 2s 178ms/step - loss: 6.9080e-05 - val_loss: 0.0036\n",
            "Epoch 258/500\n",
            "13/13 [==============================] - 2s 180ms/step - loss: 5.2112e-05 - val_loss: 0.0035\n",
            "Epoch 259/500\n",
            "13/13 [==============================] - 2s 183ms/step - loss: 5.4846e-05 - val_loss: 0.0036\n",
            "Epoch 260/500\n",
            "13/13 [==============================] - 2s 179ms/step - loss: 5.4832e-05 - val_loss: 0.0034\n",
            "Epoch 261/500\n",
            "13/13 [==============================] - 2s 182ms/step - loss: 5.2086e-05 - val_loss: 0.0035\n",
            "Epoch 262/500\n",
            "13/13 [==============================] - 2s 181ms/step - loss: 5.8266e-05 - val_loss: 0.0035\n",
            "Epoch 263/500\n",
            "13/13 [==============================] - 2s 178ms/step - loss: 5.3967e-05 - val_loss: 0.0036\n",
            "Epoch 264/500\n",
            "13/13 [==============================] - 2s 177ms/step - loss: 5.3614e-05 - val_loss: 0.0038\n",
            "Epoch 265/500\n",
            "13/13 [==============================] - 2s 178ms/step - loss: 6.5167e-05 - val_loss: 0.0035\n",
            "Epoch 266/500\n",
            "13/13 [==============================] - 2s 177ms/step - loss: 5.1249e-05 - val_loss: 0.0035\n",
            "Epoch 267/500\n",
            "13/13 [==============================] - 2s 178ms/step - loss: 5.4104e-05 - val_loss: 0.0038\n",
            "Epoch 268/500\n",
            "13/13 [==============================] - 2s 176ms/step - loss: 5.3657e-05 - val_loss: 0.0035\n",
            "Epoch 269/500\n",
            "13/13 [==============================] - 2s 178ms/step - loss: 5.8230e-05 - val_loss: 0.0034\n",
            "Epoch 270/500\n",
            "13/13 [==============================] - 2s 176ms/step - loss: 5.6847e-05 - val_loss: 0.0035\n",
            "Epoch 271/500\n",
            "13/13 [==============================] - 2s 176ms/step - loss: 6.4937e-05 - val_loss: 0.0034\n",
            "Epoch 272/500\n",
            "13/13 [==============================] - 2s 180ms/step - loss: 5.1290e-05 - val_loss: 0.0035\n",
            "Epoch 273/500\n",
            "13/13 [==============================] - 2s 182ms/step - loss: 5.1757e-05 - val_loss: 0.0035\n",
            "Epoch 274/500\n",
            "13/13 [==============================] - 2s 179ms/step - loss: 5.1864e-05 - val_loss: 0.0035\n",
            "Epoch 275/500\n",
            "13/13 [==============================] - 2s 180ms/step - loss: 5.0549e-05 - val_loss: 0.0037\n",
            "Epoch 276/500\n",
            "13/13 [==============================] - 2s 183ms/step - loss: 6.0991e-05 - val_loss: 0.0034\n",
            "Epoch 277/500\n",
            "13/13 [==============================] - 2s 178ms/step - loss: 6.6191e-05 - val_loss: 0.0034\n",
            "Epoch 278/500\n",
            "13/13 [==============================] - 2s 178ms/step - loss: 6.2989e-05 - val_loss: 0.0037\n",
            "Epoch 279/500\n",
            "13/13 [==============================] - 2s 181ms/step - loss: 5.7130e-05 - val_loss: 0.0034\n",
            "Epoch 280/500\n",
            "13/13 [==============================] - 2s 182ms/step - loss: 5.1210e-05 - val_loss: 0.0036\n",
            "Epoch 281/500\n",
            "13/13 [==============================] - 2s 179ms/step - loss: 5.4888e-05 - val_loss: 0.0037\n",
            "Epoch 282/500\n",
            "13/13 [==============================] - 2s 179ms/step - loss: 7.7322e-05 - val_loss: 0.0034\n",
            "Epoch 283/500\n",
            "13/13 [==============================] - 2s 182ms/step - loss: 7.2494e-05 - val_loss: 0.0034\n",
            "Epoch 284/500\n",
            "13/13 [==============================] - 2s 181ms/step - loss: 5.5421e-05 - val_loss: 0.0035\n",
            "Epoch 285/500\n",
            "13/13 [==============================] - 2s 180ms/step - loss: 5.3712e-05 - val_loss: 0.0035\n",
            "Epoch 286/500\n",
            "13/13 [==============================] - 2s 179ms/step - loss: 5.6330e-05 - val_loss: 0.0037\n",
            "Epoch 287/500\n",
            "13/13 [==============================] - 2s 180ms/step - loss: 5.3633e-05 - val_loss: 0.0036\n",
            "Epoch 288/500\n",
            "13/13 [==============================] - 2s 182ms/step - loss: 6.0680e-05 - val_loss: 0.0035\n",
            "Epoch 289/500\n",
            "13/13 [==============================] - 2s 178ms/step - loss: 6.6401e-05 - val_loss: 0.0035\n",
            "Epoch 290/500\n",
            "13/13 [==============================] - 2s 179ms/step - loss: 5.4512e-05 - val_loss: 0.0035\n",
            "Epoch 291/500\n",
            "13/13 [==============================] - 2s 180ms/step - loss: 5.1472e-05 - val_loss: 0.0035\n",
            "Epoch 292/500\n",
            "13/13 [==============================] - 2s 180ms/step - loss: 5.7755e-05 - val_loss: 0.0035\n",
            "Epoch 293/500\n",
            "13/13 [==============================] - 2s 178ms/step - loss: 7.9537e-05 - val_loss: 0.0036\n",
            "Epoch 294/500\n",
            "13/13 [==============================] - 2s 178ms/step - loss: 7.7637e-05 - val_loss: 0.0038\n",
            "Epoch 295/500\n",
            "13/13 [==============================] - 2s 180ms/step - loss: 5.7330e-05 - val_loss: 0.0036\n",
            "Epoch 296/500\n",
            "13/13 [==============================] - 2s 180ms/step - loss: 5.0961e-05 - val_loss: 0.0036\n",
            "Epoch 297/500\n",
            "13/13 [==============================] - 2s 178ms/step - loss: 5.9712e-05 - val_loss: 0.0036\n",
            "Epoch 298/500\n",
            "13/13 [==============================] - 2s 180ms/step - loss: 5.0552e-05 - val_loss: 0.0036\n",
            "Epoch 299/500\n",
            "13/13 [==============================] - 2s 180ms/step - loss: 5.3763e-05 - val_loss: 0.0035\n",
            "Epoch 300/500\n",
            "13/13 [==============================] - 2s 182ms/step - loss: 5.9107e-05 - val_loss: 0.0035\n",
            "Epoch 301/500\n",
            "13/13 [==============================] - 2s 183ms/step - loss: 5.5295e-05 - val_loss: 0.0036\n",
            "Epoch 302/500\n",
            "13/13 [==============================] - 2s 182ms/step - loss: 5.5325e-05 - val_loss: 0.0035\n",
            "Epoch 303/500\n",
            "13/13 [==============================] - 2s 188ms/step - loss: 5.2793e-05 - val_loss: 0.0035\n",
            "Epoch 304/500\n",
            "13/13 [==============================] - 2s 180ms/step - loss: 5.3989e-05 - val_loss: 0.0035\n",
            "Epoch 305/500\n",
            "13/13 [==============================] - 2s 184ms/step - loss: 5.2732e-05 - val_loss: 0.0035\n",
            "Epoch 306/500\n",
            "13/13 [==============================] - 2s 181ms/step - loss: 5.5942e-05 - val_loss: 0.0035\n",
            "Epoch 307/500\n",
            "13/13 [==============================] - 2s 180ms/step - loss: 6.3302e-05 - val_loss: 0.0035\n",
            "Epoch 308/500\n",
            "13/13 [==============================] - 2s 180ms/step - loss: 5.0926e-05 - val_loss: 0.0035\n",
            "Epoch 309/500\n",
            "13/13 [==============================] - 2s 181ms/step - loss: 5.0841e-05 - val_loss: 0.0035\n",
            "Epoch 310/500\n",
            "13/13 [==============================] - 2s 180ms/step - loss: 5.3744e-05 - val_loss: 0.0036\n",
            "Epoch 311/500\n",
            "13/13 [==============================] - 2s 183ms/step - loss: 5.3654e-05 - val_loss: 0.0036\n",
            "Epoch 312/500\n",
            "13/13 [==============================] - 2s 183ms/step - loss: 6.2176e-05 - val_loss: 0.0036\n",
            "Epoch 313/500\n",
            "13/13 [==============================] - 2s 182ms/step - loss: 5.7160e-05 - val_loss: 0.0036\n",
            "Epoch 314/500\n",
            "13/13 [==============================] - 2s 181ms/step - loss: 6.7648e-05 - val_loss: 0.0035\n",
            "Epoch 315/500\n",
            "13/13 [==============================] - 2s 181ms/step - loss: 5.5557e-05 - val_loss: 0.0035\n",
            "Epoch 316/500\n",
            "13/13 [==============================] - 2s 182ms/step - loss: 5.1114e-05 - val_loss: 0.0035\n",
            "Epoch 317/500\n",
            "13/13 [==============================] - 2s 183ms/step - loss: 5.0956e-05 - val_loss: 0.0035\n",
            "Epoch 318/500\n",
            "13/13 [==============================] - 2s 182ms/step - loss: 4.8166e-05 - val_loss: 0.0035\n",
            "Epoch 319/500\n",
            "13/13 [==============================] - 2s 179ms/step - loss: 4.9411e-05 - val_loss: 0.0037\n",
            "Epoch 320/500\n",
            "13/13 [==============================] - 2s 182ms/step - loss: 6.3602e-05 - val_loss: 0.0036\n",
            "Epoch 321/500\n",
            "13/13 [==============================] - 2s 178ms/step - loss: 6.2380e-05 - val_loss: 0.0034\n",
            "Epoch 322/500\n",
            "13/13 [==============================] - 2s 178ms/step - loss: 6.7259e-05 - val_loss: 0.0035\n",
            "Epoch 323/500\n",
            "13/13 [==============================] - 2s 182ms/step - loss: 5.3197e-05 - val_loss: 0.0035\n",
            "Epoch 324/500\n",
            "13/13 [==============================] - 2s 184ms/step - loss: 5.4288e-05 - val_loss: 0.0036\n",
            "Epoch 325/500\n",
            "13/13 [==============================] - 2s 178ms/step - loss: 4.9357e-05 - val_loss: 0.0035\n",
            "Epoch 326/500\n",
            "13/13 [==============================] - 2s 180ms/step - loss: 5.0180e-05 - val_loss: 0.0035\n",
            "Epoch 327/500\n",
            "13/13 [==============================] - 2s 183ms/step - loss: 5.3906e-05 - val_loss: 0.0035\n",
            "Epoch 328/500\n",
            "13/13 [==============================] - 2s 182ms/step - loss: 5.2030e-05 - val_loss: 0.0035\n",
            "Epoch 329/500\n",
            "13/13 [==============================] - 2s 180ms/step - loss: 4.9852e-05 - val_loss: 0.0035\n",
            "Epoch 330/500\n",
            "13/13 [==============================] - 2s 183ms/step - loss: 6.2561e-05 - val_loss: 0.0035\n",
            "Epoch 331/500\n",
            "13/13 [==============================] - 2s 183ms/step - loss: 5.7624e-05 - val_loss: 0.0035\n",
            "Epoch 332/500\n",
            "13/13 [==============================] - 2s 181ms/step - loss: 5.2024e-05 - val_loss: 0.0035\n",
            "Epoch 333/500\n",
            "13/13 [==============================] - 2s 181ms/step - loss: 5.2301e-05 - val_loss: 0.0035\n",
            "Epoch 334/500\n",
            "13/13 [==============================] - 2s 181ms/step - loss: 4.9352e-05 - val_loss: 0.0036\n",
            "Epoch 335/500\n",
            "13/13 [==============================] - 2s 180ms/step - loss: 6.5190e-05 - val_loss: 0.0035\n",
            "Epoch 336/500\n",
            "13/13 [==============================] - 2s 183ms/step - loss: 5.2251e-05 - val_loss: 0.0035\n",
            "Epoch 337/500\n",
            "13/13 [==============================] - 2s 181ms/step - loss: 5.0545e-05 - val_loss: 0.0035\n",
            "Epoch 338/500\n",
            "13/13 [==============================] - 2s 181ms/step - loss: 5.5566e-05 - val_loss: 0.0035\n",
            "Epoch 339/500\n",
            "13/13 [==============================] - 2s 181ms/step - loss: 4.9942e-05 - val_loss: 0.0035\n",
            "Epoch 340/500\n",
            "13/13 [==============================] - 2s 178ms/step - loss: 4.9052e-05 - val_loss: 0.0035\n",
            "Epoch 341/500\n",
            "13/13 [==============================] - 2s 183ms/step - loss: 4.8759e-05 - val_loss: 0.0036\n",
            "Epoch 342/500\n",
            "13/13 [==============================] - 2s 182ms/step - loss: 4.8749e-05 - val_loss: 0.0035\n",
            "Epoch 343/500\n",
            "13/13 [==============================] - 2s 180ms/step - loss: 5.5580e-05 - val_loss: 0.0036\n",
            "Epoch 344/500\n",
            "13/13 [==============================] - 2s 181ms/step - loss: 6.9185e-05 - val_loss: 0.0035\n",
            "Epoch 345/500\n",
            "13/13 [==============================] - 2s 183ms/step - loss: 8.3346e-05 - val_loss: 0.0035\n",
            "Epoch 346/500\n",
            "13/13 [==============================] - 2s 180ms/step - loss: 6.6772e-05 - val_loss: 0.0034\n",
            "Epoch 347/500\n",
            "13/13 [==============================] - 2s 181ms/step - loss: 5.3742e-05 - val_loss: 0.0034\n",
            "Epoch 348/500\n",
            "13/13 [==============================] - 2s 180ms/step - loss: 5.3926e-05 - val_loss: 0.0035\n",
            "Epoch 349/500\n",
            "13/13 [==============================] - 2s 181ms/step - loss: 5.1136e-05 - val_loss: 0.0035\n",
            "Epoch 350/500\n",
            "13/13 [==============================] - 2s 183ms/step - loss: 5.3105e-05 - val_loss: 0.0035\n",
            "Epoch 351/500\n",
            "13/13 [==============================] - 2s 182ms/step - loss: 6.0595e-05 - val_loss: 0.0035\n",
            "Epoch 352/500\n",
            "13/13 [==============================] - 2s 180ms/step - loss: 6.1125e-05 - val_loss: 0.0036\n",
            "Epoch 353/500\n",
            "13/13 [==============================] - 2s 179ms/step - loss: 6.7072e-05 - val_loss: 0.0035\n",
            "Epoch 354/500\n",
            "13/13 [==============================] - 2s 181ms/step - loss: 6.2061e-05 - val_loss: 0.0035\n",
            "Epoch 355/500\n",
            "13/13 [==============================] - 2s 184ms/step - loss: 5.8402e-05 - val_loss: 0.0035\n",
            "Epoch 356/500\n",
            "13/13 [==============================] - 2s 180ms/step - loss: 5.1848e-05 - val_loss: 0.0035\n",
            "Epoch 357/500\n",
            "13/13 [==============================] - 2s 182ms/step - loss: 5.6869e-05 - val_loss: 0.0035\n",
            "Epoch 358/500\n",
            "13/13 [==============================] - 2s 179ms/step - loss: 5.2251e-05 - val_loss: 0.0035\n",
            "Epoch 359/500\n",
            "13/13 [==============================] - 2s 179ms/step - loss: 4.9698e-05 - val_loss: 0.0035\n",
            "Epoch 360/500\n",
            "13/13 [==============================] - 2s 183ms/step - loss: 5.5466e-05 - val_loss: 0.0035\n",
            "Epoch 361/500\n",
            "13/13 [==============================] - 2s 181ms/step - loss: 5.6229e-05 - val_loss: 0.0036\n",
            "Epoch 362/500\n",
            "13/13 [==============================] - 2s 183ms/step - loss: 5.9475e-05 - val_loss: 0.0035\n",
            "Epoch 363/500\n",
            "13/13 [==============================] - 2s 183ms/step - loss: 5.3949e-05 - val_loss: 0.0035\n",
            "Epoch 364/500\n",
            "13/13 [==============================] - 2s 186ms/step - loss: 5.1214e-05 - val_loss: 0.0035\n",
            "Epoch 365/500\n",
            "13/13 [==============================] - 2s 184ms/step - loss: 5.7251e-05 - val_loss: 0.0035\n",
            "Epoch 366/500\n",
            "13/13 [==============================] - 2s 183ms/step - loss: 6.5397e-05 - val_loss: 0.0035\n",
            "Epoch 367/500\n",
            "13/13 [==============================] - 2s 180ms/step - loss: 5.0854e-05 - val_loss: 0.0036\n",
            "Epoch 368/500\n",
            "13/13 [==============================] - 2s 180ms/step - loss: 5.3152e-05 - val_loss: 0.0035\n",
            "Epoch 369/500\n",
            "13/13 [==============================] - 2s 181ms/step - loss: 6.7968e-05 - val_loss: 0.0036\n",
            "Epoch 370/500\n",
            "13/13 [==============================] - 2s 183ms/step - loss: 8.2942e-05 - val_loss: 0.0036\n",
            "Epoch 371/500\n",
            "13/13 [==============================] - 2s 183ms/step - loss: 8.0175e-05 - val_loss: 0.0035\n",
            "Epoch 372/500\n",
            "13/13 [==============================] - 2s 181ms/step - loss: 7.6562e-05 - val_loss: 0.0035\n",
            "Epoch 373/500\n",
            "13/13 [==============================] - 2s 183ms/step - loss: 7.3174e-05 - val_loss: 0.0037\n",
            "Epoch 374/500\n",
            "13/13 [==============================] - 2s 180ms/step - loss: 6.6746e-05 - val_loss: 0.0035\n",
            "Epoch 375/500\n",
            "13/13 [==============================] - 2s 182ms/step - loss: 5.2366e-05 - val_loss: 0.0035\n",
            "Epoch 376/500\n",
            "13/13 [==============================] - 2s 181ms/step - loss: 5.0811e-05 - val_loss: 0.0035\n",
            "Epoch 377/500\n",
            "13/13 [==============================] - 2s 183ms/step - loss: 5.1138e-05 - val_loss: 0.0036\n",
            "Epoch 378/500\n",
            "13/13 [==============================] - 2s 184ms/step - loss: 5.3894e-05 - val_loss: 0.0035\n",
            "Epoch 379/500\n",
            "13/13 [==============================] - 2s 182ms/step - loss: 5.6948e-05 - val_loss: 0.0036\n",
            "Epoch 380/500\n",
            "13/13 [==============================] - 2s 183ms/step - loss: 5.2741e-05 - val_loss: 0.0036\n",
            "Epoch 381/500\n",
            "13/13 [==============================] - 2s 181ms/step - loss: 5.1489e-05 - val_loss: 0.0035\n",
            "Epoch 382/500\n",
            "13/13 [==============================] - 2s 182ms/step - loss: 4.9261e-05 - val_loss: 0.0036\n",
            "Epoch 383/500\n",
            "13/13 [==============================] - 2s 181ms/step - loss: 5.2430e-05 - val_loss: 0.0035\n",
            "Epoch 384/500\n",
            "13/13 [==============================] - 2s 181ms/step - loss: 5.1920e-05 - val_loss: 0.0035\n",
            "Epoch 385/500\n",
            "13/13 [==============================] - 2s 184ms/step - loss: 5.8321e-05 - val_loss: 0.0035\n",
            "Epoch 386/500\n",
            "13/13 [==============================] - 2s 187ms/step - loss: 5.3928e-05 - val_loss: 0.0036\n",
            "Epoch 387/500\n",
            "13/13 [==============================] - 2s 185ms/step - loss: 6.1694e-05 - val_loss: 0.0035\n",
            "Epoch 388/500\n",
            "13/13 [==============================] - 2s 182ms/step - loss: 5.8016e-05 - val_loss: 0.0035\n",
            "Epoch 389/500\n",
            "13/13 [==============================] - 2s 179ms/step - loss: 5.1404e-05 - val_loss: 0.0035\n",
            "Epoch 390/500\n",
            "13/13 [==============================] - 2s 182ms/step - loss: 5.3544e-05 - val_loss: 0.0035\n",
            "Epoch 391/500\n",
            "13/13 [==============================] - 2s 184ms/step - loss: 5.1169e-05 - val_loss: 0.0035\n",
            "Epoch 392/500\n",
            "13/13 [==============================] - 2s 181ms/step - loss: 5.0897e-05 - val_loss: 0.0035\n",
            "Epoch 393/500\n",
            "13/13 [==============================] - 2s 184ms/step - loss: 4.9130e-05 - val_loss: 0.0035\n",
            "Epoch 394/500\n",
            "13/13 [==============================] - 2s 186ms/step - loss: 5.0705e-05 - val_loss: 0.0035\n",
            "Epoch 395/500\n",
            "13/13 [==============================] - 2s 185ms/step - loss: 5.1010e-05 - val_loss: 0.0035\n",
            "Epoch 396/500\n",
            "13/13 [==============================] - 2s 177ms/step - loss: 4.9632e-05 - val_loss: 0.0036\n",
            "Epoch 397/500\n",
            "13/13 [==============================] - 2s 184ms/step - loss: 6.3539e-05 - val_loss: 0.0035\n",
            "Epoch 398/500\n",
            "13/13 [==============================] - 2s 181ms/step - loss: 7.1308e-05 - val_loss: 0.0035\n",
            "Epoch 399/500\n",
            "13/13 [==============================] - 2s 183ms/step - loss: 6.5429e-05 - val_loss: 0.0035\n",
            "Epoch 400/500\n",
            "13/13 [==============================] - 2s 185ms/step - loss: 5.7023e-05 - val_loss: 0.0035\n",
            "Epoch 401/500\n",
            "13/13 [==============================] - 2s 180ms/step - loss: 5.1895e-05 - val_loss: 0.0035\n",
            "Epoch 402/500\n",
            "13/13 [==============================] - 2s 182ms/step - loss: 5.2618e-05 - val_loss: 0.0035\n",
            "Epoch 403/500\n",
            "13/13 [==============================] - 2s 182ms/step - loss: 5.7277e-05 - val_loss: 0.0035\n",
            "Epoch 404/500\n",
            "13/13 [==============================] - 2s 181ms/step - loss: 5.0540e-05 - val_loss: 0.0035\n",
            "Epoch 405/500\n",
            "13/13 [==============================] - 2s 182ms/step - loss: 5.2718e-05 - val_loss: 0.0035\n",
            "Epoch 406/500\n",
            "13/13 [==============================] - 2s 182ms/step - loss: 5.5164e-05 - val_loss: 0.0035\n",
            "Epoch 407/500\n",
            "13/13 [==============================] - 2s 180ms/step - loss: 5.1271e-05 - val_loss: 0.0035\n",
            "Epoch 408/500\n",
            "13/13 [==============================] - 2s 183ms/step - loss: 5.0414e-05 - val_loss: 0.0035\n",
            "Epoch 409/500\n",
            "13/13 [==============================] - 2s 182ms/step - loss: 4.9808e-05 - val_loss: 0.0035\n",
            "Epoch 410/500\n",
            "13/13 [==============================] - 2s 179ms/step - loss: 5.3717e-05 - val_loss: 0.0035\n",
            "Epoch 411/500\n",
            "13/13 [==============================] - 2s 180ms/step - loss: 4.8685e-05 - val_loss: 0.0035\n",
            "Epoch 412/500\n",
            "13/13 [==============================] - 2s 178ms/step - loss: 5.1063e-05 - val_loss: 0.0035\n",
            "Epoch 413/500\n",
            "13/13 [==============================] - 2s 189ms/step - loss: 5.7990e-05 - val_loss: 0.0036\n",
            "Epoch 414/500\n",
            "13/13 [==============================] - 2s 185ms/step - loss: 5.4444e-05 - val_loss: 0.0035\n",
            "Epoch 415/500\n",
            "13/13 [==============================] - 2s 182ms/step - loss: 5.1194e-05 - val_loss: 0.0035\n",
            "Epoch 416/500\n",
            "13/13 [==============================] - 2s 182ms/step - loss: 4.8238e-05 - val_loss: 0.0035\n",
            "Epoch 417/500\n",
            "13/13 [==============================] - 2s 180ms/step - loss: 5.2245e-05 - val_loss: 0.0035\n",
            "Epoch 418/500\n",
            "13/13 [==============================] - 2s 183ms/step - loss: 4.9112e-05 - val_loss: 0.0035\n",
            "Epoch 419/500\n",
            "13/13 [==============================] - 2s 183ms/step - loss: 5.0355e-05 - val_loss: 0.0035\n",
            "Epoch 420/500\n",
            "13/13 [==============================] - 2s 185ms/step - loss: 5.1123e-05 - val_loss: 0.0035\n",
            "Epoch 421/500\n",
            "13/13 [==============================] - 2s 184ms/step - loss: 5.1430e-05 - val_loss: 0.0035\n",
            "Epoch 422/500\n",
            "13/13 [==============================] - 2s 180ms/step - loss: 4.9213e-05 - val_loss: 0.0035\n",
            "Epoch 423/500\n",
            "13/13 [==============================] - 2s 182ms/step - loss: 5.3277e-05 - val_loss: 0.0035\n",
            "Epoch 424/500\n",
            "13/13 [==============================] - 2s 178ms/step - loss: 6.5031e-05 - val_loss: 0.0035\n",
            "Epoch 425/500\n",
            "13/13 [==============================] - 2s 182ms/step - loss: 8.8657e-05 - val_loss: 0.0035\n",
            "Epoch 426/500\n",
            "13/13 [==============================] - 2s 184ms/step - loss: 6.2447e-05 - val_loss: 0.0034\n",
            "Epoch 427/500\n",
            "13/13 [==============================] - 2s 183ms/step - loss: 5.1775e-05 - val_loss: 0.0035\n",
            "Epoch 428/500\n",
            "13/13 [==============================] - 2s 183ms/step - loss: 5.2629e-05 - val_loss: 0.0035\n",
            "Epoch 429/500\n",
            "13/13 [==============================] - 2s 185ms/step - loss: 5.9313e-05 - val_loss: 0.0034\n",
            "Epoch 430/500\n",
            "13/13 [==============================] - 2s 187ms/step - loss: 7.9839e-05 - val_loss: 0.0035\n",
            "Epoch 431/500\n",
            "13/13 [==============================] - 2s 185ms/step - loss: 5.5136e-05 - val_loss: 0.0035\n",
            "Epoch 432/500\n",
            "13/13 [==============================] - 2s 184ms/step - loss: 5.7998e-05 - val_loss: 0.0035\n",
            "Epoch 433/500\n",
            "13/13 [==============================] - 2s 180ms/step - loss: 5.7015e-05 - val_loss: 0.0035\n",
            "Epoch 434/500\n",
            "13/13 [==============================] - 2s 183ms/step - loss: 5.1849e-05 - val_loss: 0.0035\n",
            "Epoch 435/500\n",
            "13/13 [==============================] - 2s 182ms/step - loss: 5.2933e-05 - val_loss: 0.0035\n",
            "Epoch 436/500\n",
            "13/13 [==============================] - 2s 182ms/step - loss: 7.1332e-05 - val_loss: 0.0035\n",
            "Epoch 437/500\n",
            "13/13 [==============================] - 2s 182ms/step - loss: 6.0781e-05 - val_loss: 0.0035\n",
            "Epoch 438/500\n",
            "13/13 [==============================] - 2s 180ms/step - loss: 5.1163e-05 - val_loss: 0.0035\n",
            "Epoch 439/500\n",
            "13/13 [==============================] - 2s 180ms/step - loss: 4.9724e-05 - val_loss: 0.0035\n",
            "Epoch 440/500\n",
            "13/13 [==============================] - 2s 183ms/step - loss: 4.8348e-05 - val_loss: 0.0035\n",
            "Epoch 441/500\n",
            "13/13 [==============================] - 2s 184ms/step - loss: 5.1069e-05 - val_loss: 0.0035\n",
            "Epoch 442/500\n",
            "13/13 [==============================] - 2s 179ms/step - loss: 5.1422e-05 - val_loss: 0.0035\n",
            "Epoch 443/500\n",
            "13/13 [==============================] - 2s 181ms/step - loss: 5.0257e-05 - val_loss: 0.0035\n",
            "Epoch 444/500\n",
            "13/13 [==============================] - 2s 181ms/step - loss: 5.2213e-05 - val_loss: 0.0035\n",
            "Epoch 445/500\n",
            "13/13 [==============================] - 2s 180ms/step - loss: 5.0944e-05 - val_loss: 0.0035\n",
            "Epoch 446/500\n",
            "13/13 [==============================] - 2s 181ms/step - loss: 4.9824e-05 - val_loss: 0.0035\n",
            "Epoch 447/500\n",
            "13/13 [==============================] - 2s 181ms/step - loss: 5.0537e-05 - val_loss: 0.0035\n",
            "Epoch 448/500\n",
            "13/13 [==============================] - 2s 180ms/step - loss: 4.8219e-05 - val_loss: 0.0035\n",
            "Epoch 449/500\n",
            "13/13 [==============================] - 2s 182ms/step - loss: 5.1633e-05 - val_loss: 0.0035\n",
            "Epoch 450/500\n",
            "13/13 [==============================] - 2s 180ms/step - loss: 5.4504e-05 - val_loss: 0.0035\n",
            "Epoch 451/500\n",
            "13/13 [==============================] - 2s 180ms/step - loss: 6.3998e-05 - val_loss: 0.0035\n",
            "Epoch 452/500\n",
            "13/13 [==============================] - 2s 182ms/step - loss: 5.6305e-05 - val_loss: 0.0035\n",
            "Epoch 453/500\n",
            "13/13 [==============================] - 2s 181ms/step - loss: 4.8944e-05 - val_loss: 0.0035\n",
            "Epoch 454/500\n",
            "13/13 [==============================] - 2s 184ms/step - loss: 4.8322e-05 - val_loss: 0.0035\n",
            "Epoch 455/500\n",
            "13/13 [==============================] - 2s 184ms/step - loss: 5.0932e-05 - val_loss: 0.0035\n",
            "Epoch 456/500\n",
            "13/13 [==============================] - 2s 181ms/step - loss: 5.1647e-05 - val_loss: 0.0035\n",
            "Epoch 457/500\n",
            "13/13 [==============================] - 2s 183ms/step - loss: 4.9297e-05 - val_loss: 0.0035\n",
            "Epoch 458/500\n",
            "13/13 [==============================] - 2s 181ms/step - loss: 4.9635e-05 - val_loss: 0.0035\n",
            "Epoch 459/500\n",
            "13/13 [==============================] - 2s 182ms/step - loss: 4.9642e-05 - val_loss: 0.0035\n",
            "Epoch 460/500\n",
            "13/13 [==============================] - 2s 180ms/step - loss: 5.0699e-05 - val_loss: 0.0035\n",
            "Epoch 461/500\n",
            "13/13 [==============================] - 2s 181ms/step - loss: 5.2550e-05 - val_loss: 0.0034\n",
            "Epoch 462/500\n",
            "13/13 [==============================] - 2s 182ms/step - loss: 4.8393e-05 - val_loss: 0.0035\n",
            "Epoch 463/500\n",
            "13/13 [==============================] - 2s 186ms/step - loss: 5.1755e-05 - val_loss: 0.0034\n",
            "Epoch 464/500\n",
            "13/13 [==============================] - 2s 187ms/step - loss: 5.2433e-05 - val_loss: 0.0034\n",
            "Epoch 465/500\n",
            "13/13 [==============================] - 2s 185ms/step - loss: 5.0377e-05 - val_loss: 0.0034\n",
            "Epoch 466/500\n",
            "13/13 [==============================] - 2s 185ms/step - loss: 5.1432e-05 - val_loss: 0.0034\n",
            "Epoch 467/500\n",
            "13/13 [==============================] - 2s 183ms/step - loss: 5.9112e-05 - val_loss: 0.0035\n",
            "Epoch 468/500\n",
            "13/13 [==============================] - 2s 185ms/step - loss: 6.0908e-05 - val_loss: 0.0034\n",
            "Epoch 469/500\n",
            "13/13 [==============================] - 2s 190ms/step - loss: 5.1494e-05 - val_loss: 0.0034\n",
            "Epoch 470/500\n",
            "13/13 [==============================] - 2s 183ms/step - loss: 4.8738e-05 - val_loss: 0.0034\n",
            "Epoch 471/500\n",
            "13/13 [==============================] - 2s 183ms/step - loss: 4.7247e-05 - val_loss: 0.0034\n",
            "Epoch 472/500\n",
            "13/13 [==============================] - 2s 187ms/step - loss: 5.1565e-05 - val_loss: 0.0035\n",
            "Epoch 473/500\n",
            "13/13 [==============================] - 2s 184ms/step - loss: 5.5851e-05 - val_loss: 0.0034\n",
            "Epoch 474/500\n",
            "13/13 [==============================] - 2s 188ms/step - loss: 5.5126e-05 - val_loss: 0.0035\n",
            "Epoch 475/500\n",
            "13/13 [==============================] - 2s 185ms/step - loss: 5.8619e-05 - val_loss: 0.0035\n",
            "Epoch 476/500\n",
            "13/13 [==============================] - 2s 187ms/step - loss: 5.8839e-05 - val_loss: 0.0034\n",
            "Epoch 477/500\n",
            "13/13 [==============================] - 2s 188ms/step - loss: 4.7977e-05 - val_loss: 0.0035\n",
            "Epoch 478/500\n",
            "13/13 [==============================] - 2s 190ms/step - loss: 5.2659e-05 - val_loss: 0.0035\n",
            "Epoch 479/500\n",
            "13/13 [==============================] - 2s 189ms/step - loss: 5.2005e-05 - val_loss: 0.0035\n",
            "Epoch 480/500\n",
            "13/13 [==============================] - 2s 183ms/step - loss: 4.6756e-05 - val_loss: 0.0035\n",
            "Epoch 481/500\n",
            "13/13 [==============================] - 2s 187ms/step - loss: 4.7683e-05 - val_loss: 0.0035\n",
            "Epoch 482/500\n",
            "13/13 [==============================] - 2s 186ms/step - loss: 4.7455e-05 - val_loss: 0.0035\n",
            "Epoch 483/500\n",
            "13/13 [==============================] - 2s 183ms/step - loss: 4.8211e-05 - val_loss: 0.0035\n",
            "Epoch 484/500\n",
            "13/13 [==============================] - 2s 187ms/step - loss: 5.6113e-05 - val_loss: 0.0035\n",
            "Epoch 485/500\n",
            "13/13 [==============================] - 2s 183ms/step - loss: 6.3510e-05 - val_loss: 0.0035\n",
            "Epoch 486/500\n",
            "13/13 [==============================] - 2s 184ms/step - loss: 5.7893e-05 - val_loss: 0.0034\n",
            "Epoch 487/500\n",
            "13/13 [==============================] - 2s 185ms/step - loss: 5.1337e-05 - val_loss: 0.0034\n",
            "Epoch 488/500\n",
            "13/13 [==============================] - 2s 184ms/step - loss: 5.1862e-05 - val_loss: 0.0035\n",
            "Epoch 489/500\n",
            "13/13 [==============================] - 2s 182ms/step - loss: 5.1401e-05 - val_loss: 0.0034\n",
            "Epoch 490/500\n",
            "13/13 [==============================] - 2s 185ms/step - loss: 4.9267e-05 - val_loss: 0.0035\n",
            "Epoch 491/500\n",
            "13/13 [==============================] - 2s 183ms/step - loss: 4.9630e-05 - val_loss: 0.0034\n",
            "Epoch 492/500\n",
            "13/13 [==============================] - 2s 186ms/step - loss: 4.7993e-05 - val_loss: 0.0034\n",
            "Epoch 493/500\n",
            "13/13 [==============================] - 2s 181ms/step - loss: 4.7933e-05 - val_loss: 0.0035\n",
            "Epoch 494/500\n",
            "13/13 [==============================] - 2s 183ms/step - loss: 4.7415e-05 - val_loss: 0.0035\n",
            "Epoch 495/500\n",
            "13/13 [==============================] - 2s 183ms/step - loss: 6.2358e-05 - val_loss: 0.0035\n",
            "Epoch 496/500\n",
            "13/13 [==============================] - 2s 183ms/step - loss: 5.8461e-05 - val_loss: 0.0034\n",
            "Epoch 497/500\n",
            "13/13 [==============================] - 2s 182ms/step - loss: 4.8664e-05 - val_loss: 0.0034\n",
            "Epoch 498/500\n",
            "13/13 [==============================] - 2s 181ms/step - loss: 5.3777e-05 - val_loss: 0.0035\n",
            "Epoch 499/500\n",
            "13/13 [==============================] - 2s 183ms/step - loss: 5.1635e-05 - val_loss: 0.0034\n",
            "Epoch 500/500\n",
            "13/13 [==============================] - 2s 182ms/step - loss: 5.3447e-05 - val_loss: 0.0034\n"
          ],
          "name": "stdout"
        },
        {
          "output_type": "execute_result",
          "data": {
            "text/plain": [
              "<tensorflow.python.keras.callbacks.History at 0x7fe9e3e83e10>"
            ]
          },
          "metadata": {
            "tags": []
          },
          "execution_count": 19
        }
      ]
    },
    {
      "cell_type": "code",
      "metadata": {
        "id": "Rh3_my3BnaGH"
      },
      "source": [
        "import tensorflow as tf"
      ],
      "execution_count": 20,
      "outputs": []
    },
    {
      "cell_type": "code",
      "metadata": {
        "colab": {
          "base_uri": "https://localhost:8080/"
        },
        "id": "7DoDyG-KnaGM",
        "outputId": "dbc49458-fa0d-44d0-fd5a-7120152fdc61"
      },
      "source": [
        "### Lets Do the prediction and check performance metrics\n",
        "train_predict=model.predict(X_train)\n",
        "test_predict=model.predict(X_test)"
      ],
      "execution_count": 21,
      "outputs": [
        {
          "output_type": "stream",
          "text": [
            "WARNING:tensorflow:Model was constructed with shape (None, 100, 1) for input KerasTensor(type_spec=TensorSpec(shape=(None, 100, 1), dtype=tf.float32, name='lstm_input'), name='lstm_input', description=\"created by layer 'lstm_input'\"), but it was called on an input with incompatible shape (None, 95, 1).\n"
          ],
          "name": "stdout"
        }
      ]
    },
    {
      "cell_type": "code",
      "metadata": {
        "colab": {
          "base_uri": "https://localhost:8080/"
        },
        "id": "PzXgbE7mnwR-",
        "outputId": "3402eef6-7aec-4b67-f202-d668a217a027"
      },
      "source": [
        "print(X_train.shape)"
      ],
      "execution_count": 22,
      "outputs": [
        {
          "output_type": "stream",
          "text": [
            "(785, 95, 1)\n"
          ],
          "name": "stdout"
        }
      ]
    },
    {
      "cell_type": "code",
      "metadata": {
        "colab": {
          "base_uri": "https://localhost:8080/"
        },
        "id": "SfGvpNUyHQr7",
        "outputId": "ea6b00d8-eff9-4700-8afe-023559460c93"
      },
      "source": [
        "print(train_predict.shape)"
      ],
      "execution_count": 23,
      "outputs": [
        {
          "output_type": "stream",
          "text": [
            "(785, 1)\n"
          ],
          "name": "stdout"
        }
      ]
    },
    {
      "cell_type": "code",
      "metadata": {
        "id": "UyA1eildnaGP"
      },
      "source": [
        "##Transformback to original form----------very important\n",
        "train_predict=scaler.inverse_transform(train_predict)\n",
        "test_predict=scaler.inverse_transform(test_predict)"
      ],
      "execution_count": 24,
      "outputs": []
    },
    {
      "cell_type": "code",
      "metadata": {
        "colab": {
          "base_uri": "https://localhost:8080/"
        },
        "id": "EC1JBSUbd5OS",
        "outputId": "6222c52f-bc21-4112-e555-9f24d9c9bfc9"
      },
      "source": [
        "print(ytest.shape)"
      ],
      "execution_count": 25,
      "outputs": [
        {
          "output_type": "stream",
          "text": [
            "(282,)\n"
          ],
          "name": "stdout"
        }
      ]
    },
    {
      "cell_type": "code",
      "metadata": {
        "id": "c-WTCi8TixIR"
      },
      "source": [
        "ytest=ytest.reshape(282,1)\n",
        "ytest=scaler.inverse_transform(ytest)"
      ],
      "execution_count": 26,
      "outputs": []
    },
    {
      "cell_type": "code",
      "metadata": {
        "colab": {
          "base_uri": "https://localhost:8080/"
        },
        "id": "63bHn0BUnaGQ",
        "outputId": "0f92c199-79fa-4238-ba83-10f6114fe23e"
      },
      "source": [
        "### Calculate RMSE performance metrics\n",
        "import math\n",
        "from sklearn.metrics import mean_squared_error\n",
        "math.sqrt(mean_squared_error(y_train,train_predict))"
      ],
      "execution_count": 27,
      "outputs": [
        {
          "output_type": "execute_result",
          "data": {
            "text/plain": [
              "182.7044562678278"
            ]
          },
          "metadata": {
            "tags": []
          },
          "execution_count": 27
        }
      ]
    },
    {
      "cell_type": "code",
      "metadata": {
        "colab": {
          "base_uri": "https://localhost:8080/"
        },
        "id": "Qau_TR7LnaGX",
        "outputId": "4f090fbe-b6e9-44c9-f379-6e0945734657"
      },
      "source": [
        "### Test Data RMSE\n",
        "math.sqrt(mean_squared_error(ytest,test_predict))"
      ],
      "execution_count": 28,
      "outputs": [
        {
          "output_type": "execute_result",
          "data": {
            "text/plain": [
              "24.00255834547703"
            ]
          },
          "metadata": {
            "tags": []
          },
          "execution_count": 28
        }
      ]
    },
    {
      "cell_type": "code",
      "metadata": {
        "colab": {
          "base_uri": "https://localhost:8080/",
          "height": 265
        },
        "id": "JPPGyV_xnaGa",
        "outputId": "f00f1a7f-f645-408f-949c-d2c51181bb80"
      },
      "source": [
        "### Plotting \n",
        "# shift train predictions for plotting\n",
        "look_back=100\n",
        "trainPredictPlot = numpy.empty_like(df1)\n",
        "trainPredictPlot[:, :] = np.nan\n",
        "trainPredictPlot[look_back:len(train_predict)+look_back, :] = train_predict\n",
        "# shift test predictions for plotting\n",
        "testPredictPlot = numpy.empty_like(df1)\n",
        "testPredictPlot[:, :] = numpy.nan\n",
        "#testPredictPlot[len(train_predict)+(look_back*2)+1:len(df1)-1, :] = test_predict\n",
        "# plot baseline and predictions\n",
        "plt.plot(scaler.inverse_transform(df1))\n",
        "plt.plot(trainPredictPlot)\n",
        "plt.plot(testPredictPlot)\n",
        "plt.show()"
      ],
      "execution_count": 30,
      "outputs": [
        {
          "output_type": "display_data",
          "data": {
            "image/png": "[encoded data removed]",
            "text/plain": [
              "<Figure size 432x288 with 1 Axes>"
            ]
          },
          "metadata": {
            "tags": [],
            "needs_background": "light"
          }
        }
      ]
    },
    {
      "cell_type": "code",
      "metadata": {
        "id": "n6N7qBwASzzj"
      },
      "source": [
        ""
      ],
      "execution_count": null,
      "outputs": []
    }
  ]
}